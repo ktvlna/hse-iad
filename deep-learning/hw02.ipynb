{
  "cells": [
    {
      "cell_type": "markdown",
      "metadata": {
        "cell_id": 1,
        "id": "kr9vAeEQlRVG"
      },
      "source": [
        "# Домашнее задание 2. Классификация изображений."
      ]
    },
    {
      "cell_type": "markdown",
      "metadata": {
        "cell_id": 3,
        "id": "BxX49gLclRVJ"
      },
      "source": [
        "В этом задании потребуется обучить классификатор изображений. Будем работать с датасетом, название которого раскрывать не будем. Можете посмотреть самостоятельно на картинки, которые в есть датасете. В нём 200 классов и около 5 тысяч картинок на каждый класс. Классы пронумерованы, как нетрудно догадаться, от 0 до 199. Скачать датасет можно вот [тут](https://yadi.sk/d/BNR41Vu3y0c7qA).\n",
        "\n",
        "Структура датасета простая -- есть директории train/ и val/, в которых лежат обучающие и валидационные данные. В train/ и val/ лежат директориии, соответствующие классам изображений, в которых лежат, собственно, сами изображения.\n",
        "\n",
        "__Задание__. Необходимо выполнить два задания\n",
        "\n",
        "1) Добейтесь accuracy **на валидации не менее 0.44**. В этом задании **запрещено** пользоваться предобученными моделями и ресайзом картинок. 5 баллов\n",
        "\n",
        "2) Добейтесь accuracy **на валидации не менее 0.84**. В этом задании делать ресайз и использовать претрейн можно. 5 баллов\n",
        "\n",
        "Напишите краткий отчёт о проделанных экспериментах. Что сработало и что не сработало? Почему вы решили, сделать так, а не иначе? Обязательно указывайте ссылки на чужой код, если вы его используете. Обязательно ссылайтесь на статьи / блогпосты / вопросы на stackoverflow / видосы от ютуберов-машинлернеров / курсы / подсказки от Дяди Васи и прочие дополнительные материалы, если вы их используете.\n",
        "\n",
        "Ваш код обязательно должен проходить все `assert`'ы ниже.\n",
        "\n",
        "__Использовать внешние данные для обучения строго запрещено в обоих заданиях. Также запрещено обучаться на валидационной выборке__.\n",
        "\n",
        "\n",
        "__Критерии оценки__: Оценка вычисляется по простой формуле: `min(10, 10 * Ваша accuracy / 0.44)` для первого задания и `min(10, 10 * (Ваша accuracy - 0.5) / 0.34)` для второго. Оценка округляется до десятых по арифметическим правилам."
      ]
    },
    {
      "cell_type": "code",
      "execution_count": null,
      "metadata": {
        "id": "BaPSFxIz96tY",
        "colab": {
          "base_uri": "https://localhost:8080/"
        },
        "outputId": "5b0dd425-de4d-4eaa-bca4-66f695cefa8d"
      },
      "outputs": [
        {
          "output_type": "stream",
          "name": "stdout",
          "text": [
            "Collecting torchmetrics\n",
            "  Downloading torchmetrics-1.2.0-py3-none-any.whl (805 kB)\n",
            "\u001b[2K     \u001b[90m━━━━━━━━━━━━━━━━━━━━━━━━━━━━━━━━━━━━━━━━\u001b[0m \u001b[32m805.2/805.2 kB\u001b[0m \u001b[31m12.0 MB/s\u001b[0m eta \u001b[36m0:00:00\u001b[0m\n",
            "\u001b[?25hCollecting pytorch_lightning\n",
            "  Downloading pytorch_lightning-2.1.2-py3-none-any.whl (776 kB)\n",
            "\u001b[2K     \u001b[90m━━━━━━━━━━━━━━━━━━━━━━━━━━━━━━━━━━━━━━━━\u001b[0m \u001b[32m776.9/776.9 kB\u001b[0m \u001b[31m61.6 MB/s\u001b[0m eta \u001b[36m0:00:00\u001b[0m\n",
            "\u001b[?25hRequirement already satisfied: numpy>1.20.0 in /usr/local/lib/python3.10/dist-packages (from torchmetrics) (1.23.5)\n",
            "Requirement already satisfied: torch>=1.8.1 in /usr/local/lib/python3.10/dist-packages (from torchmetrics) (2.1.0+cu118)\n",
            "Collecting lightning-utilities>=0.8.0 (from torchmetrics)\n",
            "  Downloading lightning_utilities-0.9.0-py3-none-any.whl (23 kB)\n",
            "Requirement already satisfied: tqdm>=4.57.0 in /usr/local/lib/python3.10/dist-packages (from pytorch_lightning) (4.66.1)\n",
            "Requirement already satisfied: PyYAML>=5.4 in /usr/local/lib/python3.10/dist-packages (from pytorch_lightning) (6.0.1)\n",
            "Requirement already satisfied: fsspec[http]>2021.06.0 in /usr/local/lib/python3.10/dist-packages (from pytorch_lightning) (2023.6.0)\n",
            "Requirement already satisfied: packaging>=20.0 in /usr/local/lib/python3.10/dist-packages (from pytorch_lightning) (23.2)\n",
            "Requirement already satisfied: typing-extensions>=4.0.0 in /usr/local/lib/python3.10/dist-packages (from pytorch_lightning) (4.5.0)\n",
            "Requirement already satisfied: requests in /usr/local/lib/python3.10/dist-packages (from fsspec[http]>2021.06.0->pytorch_lightning) (2.31.0)\n",
            "Requirement already satisfied: aiohttp!=4.0.0a0,!=4.0.0a1 in /usr/local/lib/python3.10/dist-packages (from fsspec[http]>2021.06.0->pytorch_lightning) (3.8.6)\n",
            "Requirement already satisfied: filelock in /usr/local/lib/python3.10/dist-packages (from torch>=1.8.1->torchmetrics) (3.13.1)\n",
            "Requirement already satisfied: sympy in /usr/local/lib/python3.10/dist-packages (from torch>=1.8.1->torchmetrics) (1.12)\n",
            "Requirement already satisfied: networkx in /usr/local/lib/python3.10/dist-packages (from torch>=1.8.1->torchmetrics) (3.2.1)\n",
            "Requirement already satisfied: jinja2 in /usr/local/lib/python3.10/dist-packages (from torch>=1.8.1->torchmetrics) (3.1.2)\n",
            "Requirement already satisfied: triton==2.1.0 in /usr/local/lib/python3.10/dist-packages (from torch>=1.8.1->torchmetrics) (2.1.0)\n",
            "Requirement already satisfied: attrs>=17.3.0 in /usr/local/lib/python3.10/dist-packages (from aiohttp!=4.0.0a0,!=4.0.0a1->fsspec[http]>2021.06.0->pytorch_lightning) (23.1.0)\n",
            "Requirement already satisfied: charset-normalizer<4.0,>=2.0 in /usr/local/lib/python3.10/dist-packages (from aiohttp!=4.0.0a0,!=4.0.0a1->fsspec[http]>2021.06.0->pytorch_lightning) (3.3.2)\n",
            "Requirement already satisfied: multidict<7.0,>=4.5 in /usr/local/lib/python3.10/dist-packages (from aiohttp!=4.0.0a0,!=4.0.0a1->fsspec[http]>2021.06.0->pytorch_lightning) (6.0.4)\n",
            "Requirement already satisfied: async-timeout<5.0,>=4.0.0a3 in /usr/local/lib/python3.10/dist-packages (from aiohttp!=4.0.0a0,!=4.0.0a1->fsspec[http]>2021.06.0->pytorch_lightning) (4.0.3)\n",
            "Requirement already satisfied: yarl<2.0,>=1.0 in /usr/local/lib/python3.10/dist-packages (from aiohttp!=4.0.0a0,!=4.0.0a1->fsspec[http]>2021.06.0->pytorch_lightning) (1.9.2)\n",
            "Requirement already satisfied: frozenlist>=1.1.1 in /usr/local/lib/python3.10/dist-packages (from aiohttp!=4.0.0a0,!=4.0.0a1->fsspec[http]>2021.06.0->pytorch_lightning) (1.4.0)\n",
            "Requirement already satisfied: aiosignal>=1.1.2 in /usr/local/lib/python3.10/dist-packages (from aiohttp!=4.0.0a0,!=4.0.0a1->fsspec[http]>2021.06.0->pytorch_lightning) (1.3.1)\n",
            "Requirement already satisfied: MarkupSafe>=2.0 in /usr/local/lib/python3.10/dist-packages (from jinja2->torch>=1.8.1->torchmetrics) (2.1.3)\n",
            "Requirement already satisfied: idna<4,>=2.5 in /usr/local/lib/python3.10/dist-packages (from requests->fsspec[http]>2021.06.0->pytorch_lightning) (3.4)\n",
            "Requirement already satisfied: urllib3<3,>=1.21.1 in /usr/local/lib/python3.10/dist-packages (from requests->fsspec[http]>2021.06.0->pytorch_lightning) (2.0.7)\n",
            "Requirement already satisfied: certifi>=2017.4.17 in /usr/local/lib/python3.10/dist-packages (from requests->fsspec[http]>2021.06.0->pytorch_lightning) (2023.7.22)\n",
            "Requirement already satisfied: mpmath>=0.19 in /usr/local/lib/python3.10/dist-packages (from sympy->torch>=1.8.1->torchmetrics) (1.3.0)\n",
            "Installing collected packages: lightning-utilities, torchmetrics, pytorch_lightning\n",
            "Successfully installed lightning-utilities-0.9.0 pytorch_lightning-2.1.2 torchmetrics-1.2.0\n"
          ]
        }
      ],
      "source": [
        "!pip install torchmetrics pytorch_lightning"
      ]
    },
    {
      "cell_type": "code",
      "execution_count": null,
      "metadata": {
        "cell_id": 4,
        "id": "LKcSNj4tlRVK"
      },
      "outputs": [],
      "source": [
        "import math\n",
        "import os\n",
        "import random\n",
        "import sys\n",
        "import pytorch_lightning as pl\n",
        "import matplotlib.pyplot as plt\n",
        "import numpy as np\n",
        "import torch\n",
        "import torchvision\n",
        "import torchvision.transforms as transforms\n",
        "from PIL import Image\n",
        "from torch import nn\n",
        "from torch.nn import functional as F\n",
        "from torch.utils.data import DataLoader, ConcatDataset\n",
        "from torchmetrics.functional import accuracy\n",
        "from torchvision.datasets import ImageFolder\n",
        "from tqdm import tqdm\n",
        "\n",
        "device = torch.device(\"cuda:0\") if torch.cuda.is_available() else torch.device(\"cpu\")"
      ]
    },
    {
      "cell_type": "code",
      "execution_count": null,
      "metadata": {
        "id": "47YPLjDL-Mtv"
      },
      "outputs": [],
      "source": [
        "def seed_everything(seed):\n",
        "    random.seed(seed)\n",
        "    os.environ[\"PYTHONHASHSEED\"] = str(seed)\n",
        "    np.random.seed(seed)\n",
        "    torch.manual_seed(seed)\n",
        "    torch.cuda.manual_seed(seed)\n",
        "    torch.backends.cudnn.deterministic = True\n",
        "\n",
        "\n",
        "seed_everything(42)"
      ]
    },
    {
      "cell_type": "code",
      "execution_count": null,
      "metadata": {
        "id": "gVKdh063AzhH",
        "colab": {
          "base_uri": "https://localhost:8080/"
        },
        "outputId": "21952460-d778-4702-ab6f-534e0188d097"
      },
      "outputs": [
        {
          "output_type": "stream",
          "name": "stdout",
          "text": [
            "--2023-11-16 19:27:29--  https://www.dropbox.com/s/33l8lp62rmvtx40/dataset.zip?dl=1\n",
            "Resolving www.dropbox.com (www.dropbox.com)... 162.125.3.18, 2620:100:6019:18::a27d:412\n",
            "Connecting to www.dropbox.com (www.dropbox.com)|162.125.3.18|:443... connected.\n",
            "HTTP request sent, awaiting response... 302 Found\n",
            "Location: /s/dl/33l8lp62rmvtx40/dataset.zip [following]\n",
            "--2023-11-16 19:27:29--  https://www.dropbox.com/s/dl/33l8lp62rmvtx40/dataset.zip\n",
            "Reusing existing connection to www.dropbox.com:443.\n",
            "HTTP request sent, awaiting response... 302 Found\n",
            "Location: https://uc305ec22283f1be431da2372903.dl.dropboxusercontent.com/cd/0/get/CHpi2MOG6FpjJnlM2kU_49rc37BG3kgcOG-aK-qnJFI6ybzhsIsv67eKCDX-ALx6a03Fn1YEw-Hd8-3ps9N8c4d3cQ-Mr_UtiJW37Dq51vTaow3Dvx5tyHm6TxrSMQgpz7BKo7CHH-GyVyCp-BdU0OBq/file?dl=1# [following]\n",
            "--2023-11-16 19:27:30--  https://uc305ec22283f1be431da2372903.dl.dropboxusercontent.com/cd/0/get/CHpi2MOG6FpjJnlM2kU_49rc37BG3kgcOG-aK-qnJFI6ybzhsIsv67eKCDX-ALx6a03Fn1YEw-Hd8-3ps9N8c4d3cQ-Mr_UtiJW37Dq51vTaow3Dvx5tyHm6TxrSMQgpz7BKo7CHH-GyVyCp-BdU0OBq/file?dl=1\n",
            "Resolving uc305ec22283f1be431da2372903.dl.dropboxusercontent.com (uc305ec22283f1be431da2372903.dl.dropboxusercontent.com)... 162.125.3.15, 2620:100:6018:15::a27d:30f\n",
            "Connecting to uc305ec22283f1be431da2372903.dl.dropboxusercontent.com (uc305ec22283f1be431da2372903.dl.dropboxusercontent.com)|162.125.3.15|:443... connected.\n",
            "HTTP request sent, awaiting response... 200 OK\n",
            "Length: 220318689 (210M) [application/binary]\n",
            "Saving to: ‘dataset.zip’\n",
            "\n",
            "dataset.zip         100%[===================>] 210.11M  70.2MB/s    in 3.0s    \n",
            "\n",
            "2023-11-16 19:27:33 (70.2 MB/s) - ‘dataset.zip’ saved [220318689/220318689]\n",
            "\n"
          ]
        }
      ],
      "source": [
        "!wget https://www.dropbox.com/s/33l8lp62rmvtx40/dataset.zip?dl=1 -O dataset.zip && unzip -q dataset.zip"
      ]
    },
    {
      "cell_type": "markdown",
      "metadata": {
        "id": "RytEDW0ylRVN"
      },
      "source": [
        "## Задание 0"
      ]
    },
    {
      "cell_type": "markdown",
      "metadata": {
        "id": "WYePsQgNRB-n"
      },
      "source": [
        "### Подготовка данных"
      ]
    },
    {
      "cell_type": "code",
      "execution_count": null,
      "metadata": {
        "cell_id": 5,
        "id": "QEdDQtHdlRVO"
      },
      "outputs": [],
      "source": [
        "seed_everything(42)\n",
        "\n",
        "train_1 = transforms.Compose(\n",
        "    [\n",
        "        transforms.ToTensor(),\n",
        "        transforms.Normalize((0.5, 0.5, 0.5), (0.5, 0.5, 0.5)),\n",
        "    ]\n",
        ")\n",
        "\n",
        "train_2 = transforms.Compose(\n",
        "    [\n",
        "        transforms.RandomHorizontalFlip(p=1),\n",
        "        transforms.ToTensor(),\n",
        "        transforms.Normalize((0.5, 0.5, 0.5), (0.5, 0.5, 0.5)),\n",
        "    ]\n",
        ")\n",
        "\n",
        "train_3 = transforms.Compose(\n",
        "    [\n",
        "        transforms.RandomResizedCrop(64),\n",
        "        #transforms.RandomRotation(20),\n",
        "        transforms.ToTensor(),\n",
        "        transforms.Normalize((0.5, 0.5, 0.5), (0.5, 0.5, 0.5))\n",
        "    ]\n",
        ")\n",
        "\n",
        "val_transform = transforms.Compose(\n",
        "    [\n",
        "        transforms.ToTensor(),\n",
        "        transforms.Normalize((0.5, 0.5, 0.5), (0.5, 0.5, 0.5)),\n",
        "    ]\n",
        ")\n",
        "\n",
        "train_dataset_1 = ImageFolder('/content/dataset/dataset/train', transform=train_1)\n",
        "train_dataset_2 = ImageFolder('/content/dataset/dataset/train', transform=train_2)\n",
        "train_dataset_3 = ImageFolder('/content/dataset/dataset/train', transform=train_3)\n",
        "train_dataset = ConcatDataset([train_dataset_1, train_dataset_2, train_dataset_3])\n",
        "val_dataset = ImageFolder('/content/dataset/dataset/val', transform=val_transform)\n",
        "\n",
        "train_dataloader = DataLoader(train_dataset, batch_size=32, num_workers=2, shuffle=True)\n",
        "val_dataloader = DataLoader(val_dataset, batch_size=32, num_workers=2, shuffle=False)"
      ]
    },
    {
      "cell_type": "code",
      "execution_count": null,
      "metadata": {
        "cell_id": 6,
        "id": "mrg4Yj0VlRVP",
        "colab": {
          "base_uri": "https://localhost:8080/"
        },
        "outputId": "6ed09196-10e7-4920-96ce-0ff6548568df"
      },
      "outputs": [
        {
          "output_type": "stream",
          "name": "stdout",
          "text": [
            "tests passed\n"
          ]
        }
      ],
      "source": [
        "assert isinstance(train_dataset[0], tuple)\n",
        "assert len(train_dataset[0]) == 2\n",
        "assert isinstance(train_dataset[1][1], int)\n",
        "print(\"tests passed\")"
      ]
    },
    {
      "cell_type": "markdown",
      "metadata": {
        "id": "EOuM0EEYj7Ml"
      },
      "source": [
        "### Посмотрим на картиночки"
      ]
    },
    {
      "cell_type": "code",
      "execution_count": null,
      "metadata": {
        "id": "DeuB0YC3LYRm",
        "colab": {
          "base_uri": "https://localhost:8080/",
          "height": 884
        },
        "outputId": "1f83bba2-b999-4852-94a0-4fc70f0a199d"
      },
      "outputs": [
        {
          "output_type": "stream",
          "name": "stderr",
          "text": [
            "WARNING:matplotlib.image:Clipping input data to the valid range for imshow with RGB data ([0..1] for floats or [0..255] for integers).\n"
          ]
        },
        {
          "output_type": "display_data",
          "data": {
            "text/plain": [
              "<Figure size 640x480 with 1 Axes>"
            ],
            "image/png": "[encoded data removed]"
          },
          "metadata": {}
        },
        {
          "output_type": "stream",
          "name": "stderr",
          "text": [
            "WARNING:matplotlib.image:Clipping input data to the valid range for imshow with RGB data ([0..1] for floats or [0..255] for integers).\n"
          ]
        },
        {
          "output_type": "display_data",
          "data": {
            "text/plain": [
              "<Figure size 640x480 with 1 Axes>"
            ],
            "image/png": "[encoded data removed]"
          },
          "metadata": {}
        }
      ],
      "source": [
        "for batch in val_dataloader:\n",
        "    images, class_nums = batch\n",
        "    plt.imshow(images[12].permute(1, 2, 0))\n",
        "    plt.show()\n",
        "    plt.imshow(images[20].permute(1, 2, 0))\n",
        "    plt.show()\n",
        "    break"
      ]
    },
    {
      "cell_type": "markdown",
      "metadata": {
        "id": "LCwKB-3nKm1-"
      },
      "source": [
        "## Задание 1.\n",
        "\n",
        "5 баллов\n",
        "\n",
        "Добейтесь accuracy на валидации не менее 0.44. В этом задании запрещено пользоваться предобученными моделями и ресайзом картинок."
      ]
    },
    {
      "cell_type": "markdown",
      "metadata": {
        "id": "pWR2l6ymZfRJ"
      },
      "source": [
        "### Модель"
      ]
    },
    {
      "cell_type": "code",
      "source": [
        "from torchvision.models import resnet18\n",
        "\n",
        "model = resnet18(weights=None, num_classes=200)\n",
        "optimizer = torch.optim.Adam(model.parameters(), 0.001)\n",
        "criterion = nn.CrossEntropyLoss()\n",
        "scheduler = torch.optim.lr_scheduler.MultiStepLR(optimizer, milestones=list(range(10, 20)), gamma=0.8)"
      ],
      "metadata": {
        "id": "Qqgh6RG6otl5"
      },
      "execution_count": null,
      "outputs": []
    },
    {
      "cell_type": "markdown",
      "metadata": {
        "id": "f7iHXWj1alM1"
      },
      "source": [
        "### Вспомогательные функции для обучения"
      ]
    },
    {
      "cell_type": "markdown",
      "source": [
        "ну, в общем, we go hard or we go home, поэтому напишем-ка функции для обучения сами..."
      ],
      "metadata": {
        "id": "Wc8oPRmPvzV8"
      }
    },
    {
      "cell_type": "code",
      "source": [
        "def fit(model, train_loader, optimizer, criterion, scheduler = None):\n",
        "\n",
        "  total_loss = 0.0\n",
        "  total_accuracy = 0.0\n",
        "\n",
        "  model.train()\n",
        "\n",
        "  for x, y in tqdm(train_loader):\n",
        "    pred = model(x.to(device))\n",
        "    print('before loss')\n",
        "    loss = criterion(pred, y.to(device))\n",
        "    print('after loss')\n",
        "    loss.backward()\n",
        "    optimizer.step()\n",
        "    optimizer.zero_grad()\n",
        "\n",
        "    total_loss += loss.item()\n",
        "    print('before acc')\n",
        "    total_accuracy += (pred.cpu().argmax(1) == y).float().mean()\n",
        "    print('after acc')\n",
        "\n",
        "  scheduler.step()\n",
        "\n",
        "  print(f'mean train loss: {total_loss / len(train_loader)}, mean train accuracy: {total_accuracy / len(train_loader)}')"
      ],
      "metadata": {
        "id": "y64Zje-v47LG"
      },
      "execution_count": null,
      "outputs": []
    },
    {
      "cell_type": "code",
      "source": [
        "def validate(model, val_loader, criterion):\n",
        "\n",
        "  total_loss = 0.0\n",
        "  predictions = []\n",
        "  target = []\n",
        "\n",
        "  model.eval()\n",
        "  with torch.no_grad():\n",
        "    for x, y in tqdm(val_loader):\n",
        "      pred = model(x.to(device))\n",
        "      predictions = np.append(predictions, pred.argmax(1).cpu().detach().numpy())\n",
        "      target = np.append(target, y.numpy())\n",
        "\n",
        "      loss = criterion(pred, y.to(device))\n",
        "\n",
        "      total_loss += loss.item()\n",
        "\n",
        "  val_accuracy = (target == predictions).mean()\n",
        "\n",
        "  print(f'mean val loss: {total_loss / len(val_loader)}, val accuracy: {val_accuracy}')"
      ],
      "metadata": {
        "id": "XKOuOF-1Avvu"
      },
      "execution_count": null,
      "outputs": []
    },
    {
      "cell_type": "code",
      "source": [
        "def train(model, train_loader, val_loader, optimizer, criterion, scheduler = None, num_epochs = 5):\n",
        "\n",
        "  for epoch in range(num_epochs):\n",
        "    print(f'epoch: {epoch + 1}')\n",
        "    fit(model, train_loader, optimizer, criterion, scheduler)\n",
        "    validate(model, val_loader, criterion)"
      ],
      "metadata": {
        "id": "dtQ8C4SDB0pr"
      },
      "execution_count": null,
      "outputs": []
    },
    {
      "cell_type": "code",
      "source": [
        "train(model.to(device), train_dataloader, val_dataloader, optimizer, criterion, scheduler, 20)"
      ],
      "metadata": {
        "id": "9V-JtoDXBzpq",
        "colab": {
          "base_uri": "https://localhost:8080/"
        },
        "outputId": "313d9fa5-b9f9-48ab-b8f7-77af45c1a4de"
      },
      "execution_count": null,
      "outputs": [
        {
          "metadata": {
            "tags": null
          },
          "name": "stdout",
          "output_type": "stream",
          "text": [
            "epoch: 1\n"
          ]
        },
        {
          "metadata": {
            "tags": null
          },
          "name": "stderr",
          "output_type": "stream",
          "text": [
            "100%|██████████| 9375/9375 [06:06<00:00, 25.59it/s]\n"
          ]
        },
        {
          "metadata": {
            "tags": null
          },
          "name": "stdout",
          "output_type": "stream",
          "text": [
            "mean train loss: 3.9894575731404625, mean train accuracy: 0.1473200023174286\n"
          ]
        },
        {
          "metadata": {
            "tags": null
          },
          "name": "stderr",
          "output_type": "stream",
          "text": [
            "100%|██████████| 313/313 [00:07<00:00, 43.77it/s]\n"
          ]
        },
        {
          "metadata": {
            "tags": null
          },
          "name": "stdout",
          "output_type": "stream",
          "text": [
            "mean val loss: 3.187034159041822, val accuracy: 0.268\n",
            "epoch: 2\n"
          ]
        },
        {
          "metadata": {
            "tags": null
          },
          "name": "stderr",
          "output_type": "stream",
          "text": [
            "100%|██████████| 9375/9375 [06:11<00:00, 25.25it/s]\n"
          ]
        },
        {
          "metadata": {
            "tags": null
          },
          "name": "stdout",
          "output_type": "stream",
          "text": [
            "mean train loss: 3.0493067334365844, mean train accuracy: 0.29986000061035156\n"
          ]
        },
        {
          "metadata": {
            "tags": null
          },
          "name": "stderr",
          "output_type": "stream",
          "text": [
            "100%|██████████| 313/313 [00:08<00:00, 35.49it/s]\n"
          ]
        },
        {
          "metadata": {
            "tags": null
          },
          "name": "stdout",
          "output_type": "stream",
          "text": [
            "mean val loss: 2.8343779918865657, val accuracy: 0.3379\n",
            "epoch: 3\n"
          ]
        },
        {
          "metadata": {
            "tags": null
          },
          "name": "stderr",
          "output_type": "stream",
          "text": [
            "100%|██████████| 9375/9375 [06:10<00:00, 25.27it/s]\n"
          ]
        },
        {
          "metadata": {
            "tags": null
          },
          "name": "stdout",
          "output_type": "stream",
          "text": [
            "mean train loss: 2.576604922815959, mean train accuracy: 0.38956332206726074\n"
          ]
        },
        {
          "metadata": {
            "tags": null
          },
          "name": "stderr",
          "output_type": "stream",
          "text": [
            "100%|██████████| 313/313 [00:08<00:00, 35.57it/s]\n"
          ]
        },
        {
          "metadata": {
            "tags": null
          },
          "name": "stdout",
          "output_type": "stream",
          "text": [
            "mean val loss: 2.634052415815786, val accuracy: 0.389\n",
            "epoch: 4\n"
          ]
        },
        {
          "metadata": {
            "tags": null
          },
          "name": "stderr",
          "output_type": "stream",
          "text": [
            "100%|██████████| 9375/9375 [06:12<00:00, 25.19it/s]\n"
          ]
        },
        {
          "metadata": {
            "tags": null
          },
          "name": "stdout",
          "output_type": "stream",
          "text": [
            "mean train loss: 2.183308384666443, mean train accuracy: 0.46853333711624146\n"
          ]
        },
        {
          "metadata": {
            "tags": null
          },
          "name": "stderr",
          "output_type": "stream",
          "text": [
            "100%|██████████| 313/313 [00:06<00:00, 46.14it/s]\n"
          ]
        },
        {
          "metadata": {
            "tags": null
          },
          "name": "stdout",
          "output_type": "stream",
          "text": [
            "mean val loss: 2.6512163443306385, val accuracy: 0.4032\n",
            "epoch: 5\n"
          ]
        },
        {
          "metadata": {
            "tags": null
          },
          "name": "stderr",
          "output_type": "stream",
          "text": [
            "100%|██████████| 9375/9375 [06:14<00:00, 25.03it/s]\n"
          ]
        },
        {
          "metadata": {
            "tags": null
          },
          "name": "stdout",
          "output_type": "stream",
          "text": [
            "mean train loss: 1.8203569184939066, mean train accuracy: 0.5477566719055176\n"
          ]
        },
        {
          "metadata": {
            "tags": null
          },
          "name": "stderr",
          "output_type": "stream",
          "text": [
            "100%|██████████| 313/313 [00:06<00:00, 45.75it/s]\n"
          ]
        },
        {
          "metadata": {
            "tags": null
          },
          "name": "stdout",
          "output_type": "stream",
          "text": [
            "mean val loss: 2.8227074401447187, val accuracy: 0.4025\n",
            "epoch: 6\n"
          ]
        },
        {
          "metadata": {
            "tags": null
          },
          "name": "stderr",
          "output_type": "stream",
          "text": [
            "100%|██████████| 9375/9375 [06:14<00:00, 25.02it/s]\n"
          ]
        },
        {
          "metadata": {
            "tags": null
          },
          "name": "stdout",
          "output_type": "stream",
          "text": [
            "mean train loss: 1.5190928188959758, mean train accuracy: 0.6198766827583313\n"
          ]
        },
        {
          "metadata": {
            "tags": null
          },
          "name": "stderr",
          "output_type": "stream",
          "text": [
            "100%|██████████| 313/313 [00:06<00:00, 46.24it/s]\n"
          ]
        },
        {
          "metadata": {
            "tags": null
          },
          "name": "stdout",
          "output_type": "stream",
          "text": [
            "mean val loss: 3.008414158234581, val accuracy: 0.3998\n",
            "epoch: 7\n"
          ]
        },
        {
          "metadata": {
            "tags": null
          },
          "name": "stderr",
          "output_type": "stream",
          "text": [
            "100%|██████████| 9375/9375 [06:13<00:00, 25.11it/s]\n"
          ]
        },
        {
          "metadata": {
            "tags": null
          },
          "name": "stdout",
          "output_type": "stream",
          "text": [
            "mean train loss: 1.2912071031634014, mean train accuracy: 0.678143322467804\n"
          ]
        },
        {
          "metadata": {
            "tags": null
          },
          "name": "stderr",
          "output_type": "stream",
          "text": [
            "100%|██████████| 313/313 [00:08<00:00, 37.25it/s]\n"
          ]
        },
        {
          "metadata": {
            "tags": null
          },
          "name": "stdout",
          "output_type": "stream",
          "text": [
            "mean val loss: 3.2495283638707364, val accuracy: 0.3965\n",
            "epoch: 8\n"
          ]
        },
        {
          "metadata": {
            "tags": null
          },
          "name": "stderr",
          "output_type": "stream",
          "text": [
            "100%|██████████| 9375/9375 [06:12<00:00, 25.19it/s]\n"
          ]
        },
        {
          "metadata": {
            "tags": null
          },
          "name": "stdout",
          "output_type": "stream",
          "text": [
            "mean train loss: 1.1457837239424387, mean train accuracy: 0.7153933048248291\n"
          ]
        },
        {
          "metadata": {
            "tags": null
          },
          "name": "stderr",
          "output_type": "stream",
          "text": [
            "100%|██████████| 313/313 [00:08<00:00, 36.15it/s]\n"
          ]
        },
        {
          "metadata": {
            "tags": null
          },
          "name": "stdout",
          "output_type": "stream",
          "text": [
            "mean val loss: 3.452679548019799, val accuracy: 0.4014\n",
            "epoch: 9\n"
          ]
        },
        {
          "metadata": {
            "tags": null
          },
          "name": "stderr",
          "output_type": "stream",
          "text": [
            "100%|██████████| 9375/9375 [06:13<00:00, 25.07it/s]\n"
          ]
        },
        {
          "metadata": {
            "tags": null
          },
          "name": "stdout",
          "output_type": "stream",
          "text": [
            "mean train loss: 1.0602419461552302, mean train accuracy: 0.7402166724205017\n"
          ]
        },
        {
          "metadata": {
            "tags": null
          },
          "name": "stderr",
          "output_type": "stream",
          "text": [
            "100%|██████████| 313/313 [00:06<00:00, 45.92it/s]\n"
          ]
        },
        {
          "metadata": {
            "tags": null
          },
          "name": "stdout",
          "output_type": "stream",
          "text": [
            "mean val loss: 3.6344416606159635, val accuracy: 0.397\n",
            "epoch: 10\n"
          ]
        },
        {
          "metadata": {
            "tags": null
          },
          "name": "stderr",
          "output_type": "stream",
          "text": [
            "100%|██████████| 9375/9375 [06:28<00:00, 24.16it/s]\n"
          ]
        },
        {
          "metadata": {
            "tags": null
          },
          "name": "stdout",
          "output_type": "stream",
          "text": [
            "mean train loss: 1.000422524606387, mean train accuracy: 0.7560333609580994\n"
          ]
        },
        {
          "metadata": {
            "tags": null
          },
          "name": "stderr",
          "output_type": "stream",
          "text": [
            "100%|██████████| 313/313 [00:07<00:00, 40.08it/s]\n"
          ]
        },
        {
          "metadata": {
            "tags": null
          },
          "name": "stdout",
          "output_type": "stream",
          "text": [
            "mean val loss: 3.6955473472515994, val accuracy: 0.4002\n",
            "epoch: 11\n"
          ]
        },
        {
          "metadata": {
            "tags": null
          },
          "name": "stderr",
          "output_type": "stream",
          "text": [
            "100%|██████████| 9375/9375 [06:20<00:00, 24.67it/s]\n"
          ]
        },
        {
          "metadata": {
            "tags": null
          },
          "name": "stdout",
          "output_type": "stream",
          "text": [
            "mean train loss: 0.8967624001042048, mean train accuracy: 0.7852699756622314\n"
          ]
        },
        {
          "metadata": {
            "tags": null
          },
          "name": "stderr",
          "output_type": "stream",
          "text": [
            "100%|██████████| 313/313 [00:09<00:00, 33.08it/s]\n"
          ]
        },
        {
          "metadata": {
            "tags": null
          },
          "name": "stdout",
          "output_type": "stream",
          "text": [
            "mean val loss: 3.8472717648116164, val accuracy: 0.4081\n",
            "epoch: 12\n"
          ]
        },
        {
          "metadata": {
            "tags": null
          },
          "name": "stderr",
          "output_type": "stream",
          "text": [
            "100%|██████████| 9375/9375 [06:09<00:00, 25.39it/s]\n"
          ]
        },
        {
          "metadata": {
            "tags": null
          },
          "name": "stdout",
          "output_type": "stream",
          "text": [
            "mean train loss: 0.8120212391455969, mean train accuracy: 0.8074633479118347\n"
          ]
        },
        {
          "metadata": {
            "tags": null
          },
          "name": "stderr",
          "output_type": "stream",
          "text": [
            "100%|██████████| 313/313 [00:07<00:00, 41.15it/s]\n"
          ]
        },
        {
          "metadata": {
            "tags": null
          },
          "name": "stdout",
          "output_type": "stream",
          "text": [
            "mean val loss: 3.7889846468124144, val accuracy: 0.415\n",
            "epoch: 13\n"
          ]
        },
        {
          "metadata": {
            "tags": null
          },
          "name": "stderr",
          "output_type": "stream",
          "text": [
            "100%|██████████| 9375/9375 [06:10<00:00, 25.30it/s]\n"
          ]
        },
        {
          "metadata": {
            "tags": null
          },
          "name": "stdout",
          "output_type": "stream",
          "text": [
            "mean train loss: 0.7566045917958021, mean train accuracy: 0.8226033449172974\n"
          ]
        },
        {
          "metadata": {
            "tags": null
          },
          "name": "stderr",
          "output_type": "stream",
          "text": [
            "100%|██████████| 313/313 [00:08<00:00, 35.82it/s]\n"
          ]
        },
        {
          "metadata": {
            "tags": null
          },
          "name": "stdout",
          "output_type": "stream",
          "text": [
            "mean val loss: 3.8788841879025053, val accuracy: 0.4188\n",
            "epoch: 14\n"
          ]
        },
        {
          "metadata": {
            "tags": null
          },
          "name": "stderr",
          "output_type": "stream",
          "text": [
            "100%|██████████| 9375/9375 [06:06<00:00, 25.55it/s]\n"
          ]
        },
        {
          "metadata": {
            "tags": null
          },
          "name": "stdout",
          "output_type": "stream",
          "text": [
            "mean train loss: 0.7115311259198189, mean train accuracy: 0.8343766927719116\n"
          ]
        },
        {
          "metadata": {
            "tags": null
          },
          "name": "stderr",
          "output_type": "stream",
          "text": [
            "100%|██████████| 313/313 [00:09<00:00, 31.58it/s]\n"
          ]
        },
        {
          "metadata": {
            "tags": null
          },
          "name": "stdout",
          "output_type": "stream",
          "text": [
            "mean val loss: 3.956124666399849, val accuracy: 0.424\n",
            "epoch: 15\n"
          ]
        },
        {
          "metadata": {
            "tags": null
          },
          "name": "stderr",
          "output_type": "stream",
          "text": [
            "100%|██████████| 9375/9375 [06:09<00:00, 25.40it/s]\n"
          ]
        },
        {
          "metadata": {
            "tags": null
          },
          "name": "stdout",
          "output_type": "stream",
          "text": [
            "mean train loss: 0.6778768540579081, mean train accuracy: 0.8425366878509521\n"
          ]
        },
        {
          "metadata": {
            "tags": null
          },
          "name": "stderr",
          "output_type": "stream",
          "text": [
            "100%|██████████| 313/313 [00:06<00:00, 45.34it/s]\n"
          ]
        },
        {
          "metadata": {
            "tags": null
          },
          "name": "stdout",
          "output_type": "stream",
          "text": [
            "mean val loss: 3.851958119545501, val accuracy: 0.4301\n",
            "epoch: 16\n"
          ]
        },
        {
          "metadata": {
            "tags": null
          },
          "name": "stderr",
          "output_type": "stream",
          "text": [
            "100%|██████████| 9375/9375 [06:08<00:00, 25.46it/s]\n"
          ]
        },
        {
          "metadata": {
            "tags": null
          },
          "name": "stdout",
          "output_type": "stream",
          "text": [
            "mean train loss: 0.6497735264613231, mean train accuracy: 0.8484200239181519\n"
          ]
        },
        {
          "metadata": {
            "tags": null
          },
          "name": "stderr",
          "output_type": "stream",
          "text": [
            "100%|██████████| 313/313 [00:08<00:00, 35.24it/s]\n"
          ]
        },
        {
          "metadata": {
            "tags": null
          },
          "name": "stdout",
          "output_type": "stream",
          "text": [
            "mean val loss: 3.9082850000728815, val accuracy: 0.427\n",
            "epoch: 17\n"
          ]
        },
        {
          "metadata": {
            "tags": null
          },
          "name": "stderr",
          "output_type": "stream",
          "text": [
            "100%|██████████| 9375/9375 [06:06<00:00, 25.60it/s]\n"
          ]
        },
        {
          "metadata": {
            "tags": null
          },
          "name": "stdout",
          "output_type": "stream",
          "text": [
            "mean train loss: 0.6240829256687561, mean train accuracy: 0.8542299866676331\n"
          ]
        },
        {
          "metadata": {
            "tags": null
          },
          "name": "stderr",
          "output_type": "stream",
          "text": [
            "100%|██████████| 313/313 [00:09<00:00, 31.53it/s]\n"
          ]
        },
        {
          "metadata": {
            "tags": null
          },
          "name": "stdout",
          "output_type": "stream",
          "text": [
            "mean val loss: 3.819804456763374, val accuracy: 0.4335\n",
            "epoch: 18\n"
          ]
        },
        {
          "metadata": {
            "tags": null
          },
          "name": "stderr",
          "output_type": "stream",
          "text": [
            "100%|██████████| 9375/9375 [06:05<00:00, 25.68it/s]\n"
          ]
        },
        {
          "metadata": {
            "tags": null
          },
          "name": "stdout",
          "output_type": "stream",
          "text": [
            "mean train loss: 0.6082764194017649, mean train accuracy: 0.8583400249481201\n"
          ]
        },
        {
          "metadata": {
            "tags": null
          },
          "name": "stderr",
          "output_type": "stream",
          "text": [
            "100%|██████████| 313/313 [00:07<00:00, 44.54it/s]\n"
          ]
        },
        {
          "metadata": {
            "tags": null
          },
          "name": "stdout",
          "output_type": "stream",
          "text": [
            "mean val loss: 3.7908904278240265, val accuracy: 0.4316\n",
            "epoch: 19\n"
          ]
        },
        {
          "output_type": "stream",
          "name": "stderr",
          "text": [
            "100%|██████████| 9375/9375 [06:02<00:00, 25.84it/s]\n"
          ]
        },
        {
          "output_type": "stream",
          "name": "stdout",
          "text": [
            "mean train loss: 0.5899269523370266, mean train accuracy: 0.8622300028800964\n"
          ]
        },
        {
          "output_type": "stream",
          "name": "stderr",
          "text": [
            "100%|██████████| 313/313 [00:07<00:00, 43.51it/s]\n"
          ]
        },
        {
          "output_type": "stream",
          "name": "stdout",
          "text": [
            "mean val loss: 3.8126348313241722, val accuracy: 0.4338\n",
            "epoch: 20\n"
          ]
        },
        {
          "output_type": "stream",
          "name": "stderr",
          "text": [
            "100%|██████████| 9375/9375 [06:02<00:00, 25.88it/s]\n"
          ]
        },
        {
          "output_type": "stream",
          "name": "stdout",
          "text": [
            "mean train loss: 0.582234396721522, mean train accuracy: 0.8640133142471313\n"
          ]
        },
        {
          "output_type": "stream",
          "name": "stderr",
          "text": [
            "100%|██████████| 313/313 [00:08<00:00, 38.02it/s]"
          ]
        },
        {
          "output_type": "stream",
          "name": "stdout",
          "text": [
            "mean val loss: 3.8686935339872828, val accuracy: 0.4339\n"
          ]
        },
        {
          "output_type": "stream",
          "name": "stderr",
          "text": [
            "\n"
          ]
        }
      ]
    },
    {
      "cell_type": "markdown",
      "metadata": {
        "id": "3eoTAB1fSOuk"
      },
      "source": [
        "### Валидация результатов задания"
      ]
    },
    {
      "cell_type": "code",
      "execution_count": null,
      "metadata": {
        "id": "4M_BAiMNl1rL"
      },
      "outputs": [],
      "source": [
        "def evaluate_task(model, test_dataloader, device=\"cuda:0\"):\n",
        "    model = model.to(device)\n",
        "    model.eval()\n",
        "    test_accuracy = 0.0\n",
        "    for images, labels in tqdm(test_dataloader):\n",
        "        images, labels = images.to(device), labels.to(device)\n",
        "        with torch.no_grad():\n",
        "            pred = model(images)\n",
        "            # здесь немного переписала, надеюсь это ок\n",
        "            acc_batch = accuracy(torch.argmax(pred, dim=-1).long(), labels.long(), task = 'multiclass', num_classes=200)\n",
        "        test_accuracy += acc_batch\n",
        "    total_accuracy = test_accuracy.cpu() / len(test_dataloader)\n",
        "    return total_accuracy"
      ]
    },
    {
      "cell_type": "code",
      "execution_count": null,
      "metadata": {
        "id": "TsP57VG8KEfP",
        "colab": {
          "base_uri": "https://localhost:8080/"
        },
        "outputId": "b8cb56b3-7b4e-4a46-a161-5969281853f0"
      },
      "outputs": [
        {
          "output_type": "stream",
          "name": "stderr",
          "text": [
            "100%|██████████| 313/313 [00:09<00:00, 33.82it/s]\n"
          ]
        },
        {
          "output_type": "stream",
          "name": "stdout",
          "text": [
            "Оценка за это задание составит 9.87 баллов\n"
          ]
        }
      ],
      "source": [
        "accuracy = evaluate_task(model, val_dataloader)\n",
        "print(f\"Оценка за это задание составит {np.clip(10 * accuracy / 0.44, 0, 10):.2f} баллов\")"
      ]
    },
    {
      "cell_type": "markdown",
      "metadata": {
        "id": "cZqSdlQQKukS"
      },
      "source": [
        "## Задание 2\n",
        "\n",
        "5 баллов\n",
        "Добейтесь accuracy на валидации не менее 0.84. В этом задании делать ресайз и использовать претрейн можно."
      ]
    },
    {
      "cell_type": "markdown",
      "source": [
        "## Предобработка данных\n",
        "\n"
      ],
      "metadata": {
        "id": "od22rG4-kV4O"
      }
    },
    {
      "cell_type": "code",
      "source": [
        "train_transform = transforms.Compose(\n",
        "    [   transforms.Resize((224,224)),\n",
        "        transforms.RandomHorizontalFlip(),\n",
        "        transforms.ToTensor(),\n",
        "        transforms.Normalize((0.485, 0.456, 0.406), (0.229, 0.224, 0.225))\n",
        "    ]\n",
        ")\n",
        "val_transform = transforms.Compose(\n",
        "    [   transforms.Resize((224,224)),\n",
        "        transforms.ToTensor(),\n",
        "        transforms.Normalize((0.485, 0.456, 0.406), (0.229, 0.224, 0.225))\n",
        "    ]\n",
        ")\n",
        "\n",
        "train_dataset = ImageFolder('/content/dataset/dataset/train', transform=train_transform)\n",
        "val_dataset = ImageFolder('/content/dataset/dataset/val', transform=val_transform)\n",
        "\n",
        "train_dataloader = DataLoader(train_dataset, batch_size=64, num_workers=2, shuffle=True)\n",
        "val_dataloader = DataLoader(val_dataset, batch_size=64, num_workers=2, shuffle=False)"
      ],
      "metadata": {
        "id": "Z8-t8ivAllZf"
      },
      "execution_count": null,
      "outputs": []
    },
    {
      "cell_type": "markdown",
      "metadata": {
        "id": "zDzXM5rNxNQp"
      },
      "source": [
        "### Модель"
      ]
    },
    {
      "cell_type": "code",
      "execution_count": null,
      "metadata": {
        "id": "sDr9l76AxH_9",
        "colab": {
          "base_uri": "https://localhost:8080/"
        },
        "outputId": "d99d8146-61e4-4ca4-df10-b90bf760ed14"
      },
      "outputs": [
        {
          "output_type": "execute_result",
          "data": {
            "text/plain": [
              "ConvNeXt(\n",
              "  (features): Sequential(\n",
              "    (0): Conv2dNormActivation(\n",
              "      (0): Conv2d(3, 192, kernel_size=(4, 4), stride=(4, 4))\n",
              "      (1): LayerNorm2d((192,), eps=1e-06, elementwise_affine=True)\n",
              "    )\n",
              "    (1): Sequential(\n",
              "      (0): CNBlock(\n",
              "        (block): Sequential(\n",
              "          (0): Conv2d(192, 192, kernel_size=(7, 7), stride=(1, 1), padding=(3, 3), groups=192)\n",
              "          (1): Permute()\n",
              "          (2): LayerNorm((192,), eps=1e-06, elementwise_affine=True)\n",
              "          (3): Linear(in_features=192, out_features=768, bias=True)\n",
              "          (4): GELU(approximate='none')\n",
              "          (5): Linear(in_features=768, out_features=192, bias=True)\n",
              "          (6): Permute()\n",
              "        )\n",
              "        (stochastic_depth): StochasticDepth(p=0.0, mode=row)\n",
              "      )\n",
              "      (1): CNBlock(\n",
              "        (block): Sequential(\n",
              "          (0): Conv2d(192, 192, kernel_size=(7, 7), stride=(1, 1), padding=(3, 3), groups=192)\n",
              "          (1): Permute()\n",
              "          (2): LayerNorm((192,), eps=1e-06, elementwise_affine=True)\n",
              "          (3): Linear(in_features=192, out_features=768, bias=True)\n",
              "          (4): GELU(approximate='none')\n",
              "          (5): Linear(in_features=768, out_features=192, bias=True)\n",
              "          (6): Permute()\n",
              "        )\n",
              "        (stochastic_depth): StochasticDepth(p=0.014285714285714285, mode=row)\n",
              "      )\n",
              "      (2): CNBlock(\n",
              "        (block): Sequential(\n",
              "          (0): Conv2d(192, 192, kernel_size=(7, 7), stride=(1, 1), padding=(3, 3), groups=192)\n",
              "          (1): Permute()\n",
              "          (2): LayerNorm((192,), eps=1e-06, elementwise_affine=True)\n",
              "          (3): Linear(in_features=192, out_features=768, bias=True)\n",
              "          (4): GELU(approximate='none')\n",
              "          (5): Linear(in_features=768, out_features=192, bias=True)\n",
              "          (6): Permute()\n",
              "        )\n",
              "        (stochastic_depth): StochasticDepth(p=0.02857142857142857, mode=row)\n",
              "      )\n",
              "    )\n",
              "    (2): Sequential(\n",
              "      (0): LayerNorm2d((192,), eps=1e-06, elementwise_affine=True)\n",
              "      (1): Conv2d(192, 384, kernel_size=(2, 2), stride=(2, 2))\n",
              "    )\n",
              "    (3): Sequential(\n",
              "      (0): CNBlock(\n",
              "        (block): Sequential(\n",
              "          (0): Conv2d(384, 384, kernel_size=(7, 7), stride=(1, 1), padding=(3, 3), groups=384)\n",
              "          (1): Permute()\n",
              "          (2): LayerNorm((384,), eps=1e-06, elementwise_affine=True)\n",
              "          (3): Linear(in_features=384, out_features=1536, bias=True)\n",
              "          (4): GELU(approximate='none')\n",
              "          (5): Linear(in_features=1536, out_features=384, bias=True)\n",
              "          (6): Permute()\n",
              "        )\n",
              "        (stochastic_depth): StochasticDepth(p=0.04285714285714286, mode=row)\n",
              "      )\n",
              "      (1): CNBlock(\n",
              "        (block): Sequential(\n",
              "          (0): Conv2d(384, 384, kernel_size=(7, 7), stride=(1, 1), padding=(3, 3), groups=384)\n",
              "          (1): Permute()\n",
              "          (2): LayerNorm((384,), eps=1e-06, elementwise_affine=True)\n",
              "          (3): Linear(in_features=384, out_features=1536, bias=True)\n",
              "          (4): GELU(approximate='none')\n",
              "          (5): Linear(in_features=1536, out_features=384, bias=True)\n",
              "          (6): Permute()\n",
              "        )\n",
              "        (stochastic_depth): StochasticDepth(p=0.05714285714285714, mode=row)\n",
              "      )\n",
              "      (2): CNBlock(\n",
              "        (block): Sequential(\n",
              "          (0): Conv2d(384, 384, kernel_size=(7, 7), stride=(1, 1), padding=(3, 3), groups=384)\n",
              "          (1): Permute()\n",
              "          (2): LayerNorm((384,), eps=1e-06, elementwise_affine=True)\n",
              "          (3): Linear(in_features=384, out_features=1536, bias=True)\n",
              "          (4): GELU(approximate='none')\n",
              "          (5): Linear(in_features=1536, out_features=384, bias=True)\n",
              "          (6): Permute()\n",
              "        )\n",
              "        (stochastic_depth): StochasticDepth(p=0.07142857142857142, mode=row)\n",
              "      )\n",
              "    )\n",
              "    (4): Sequential(\n",
              "      (0): LayerNorm2d((384,), eps=1e-06, elementwise_affine=True)\n",
              "      (1): Conv2d(384, 768, kernel_size=(2, 2), stride=(2, 2))\n",
              "    )\n",
              "    (5): Sequential(\n",
              "      (0): CNBlock(\n",
              "        (block): Sequential(\n",
              "          (0): Conv2d(768, 768, kernel_size=(7, 7), stride=(1, 1), padding=(3, 3), groups=768)\n",
              "          (1): Permute()\n",
              "          (2): LayerNorm((768,), eps=1e-06, elementwise_affine=True)\n",
              "          (3): Linear(in_features=768, out_features=3072, bias=True)\n",
              "          (4): GELU(approximate='none')\n",
              "          (5): Linear(in_features=3072, out_features=768, bias=True)\n",
              "          (6): Permute()\n",
              "        )\n",
              "        (stochastic_depth): StochasticDepth(p=0.08571428571428572, mode=row)\n",
              "      )\n",
              "      (1): CNBlock(\n",
              "        (block): Sequential(\n",
              "          (0): Conv2d(768, 768, kernel_size=(7, 7), stride=(1, 1), padding=(3, 3), groups=768)\n",
              "          (1): Permute()\n",
              "          (2): LayerNorm((768,), eps=1e-06, elementwise_affine=True)\n",
              "          (3): Linear(in_features=768, out_features=3072, bias=True)\n",
              "          (4): GELU(approximate='none')\n",
              "          (5): Linear(in_features=3072, out_features=768, bias=True)\n",
              "          (6): Permute()\n",
              "        )\n",
              "        (stochastic_depth): StochasticDepth(p=0.1, mode=row)\n",
              "      )\n",
              "      (2): CNBlock(\n",
              "        (block): Sequential(\n",
              "          (0): Conv2d(768, 768, kernel_size=(7, 7), stride=(1, 1), padding=(3, 3), groups=768)\n",
              "          (1): Permute()\n",
              "          (2): LayerNorm((768,), eps=1e-06, elementwise_affine=True)\n",
              "          (3): Linear(in_features=768, out_features=3072, bias=True)\n",
              "          (4): GELU(approximate='none')\n",
              "          (5): Linear(in_features=3072, out_features=768, bias=True)\n",
              "          (6): Permute()\n",
              "        )\n",
              "        (stochastic_depth): StochasticDepth(p=0.11428571428571428, mode=row)\n",
              "      )\n",
              "      (3): CNBlock(\n",
              "        (block): Sequential(\n",
              "          (0): Conv2d(768, 768, kernel_size=(7, 7), stride=(1, 1), padding=(3, 3), groups=768)\n",
              "          (1): Permute()\n",
              "          (2): LayerNorm((768,), eps=1e-06, elementwise_affine=True)\n",
              "          (3): Linear(in_features=768, out_features=3072, bias=True)\n",
              "          (4): GELU(approximate='none')\n",
              "          (5): Linear(in_features=3072, out_features=768, bias=True)\n",
              "          (6): Permute()\n",
              "        )\n",
              "        (stochastic_depth): StochasticDepth(p=0.12857142857142856, mode=row)\n",
              "      )\n",
              "      (4): CNBlock(\n",
              "        (block): Sequential(\n",
              "          (0): Conv2d(768, 768, kernel_size=(7, 7), stride=(1, 1), padding=(3, 3), groups=768)\n",
              "          (1): Permute()\n",
              "          (2): LayerNorm((768,), eps=1e-06, elementwise_affine=True)\n",
              "          (3): Linear(in_features=768, out_features=3072, bias=True)\n",
              "          (4): GELU(approximate='none')\n",
              "          (5): Linear(in_features=3072, out_features=768, bias=True)\n",
              "          (6): Permute()\n",
              "        )\n",
              "        (stochastic_depth): StochasticDepth(p=0.14285714285714285, mode=row)\n",
              "      )\n",
              "      (5): CNBlock(\n",
              "        (block): Sequential(\n",
              "          (0): Conv2d(768, 768, kernel_size=(7, 7), stride=(1, 1), padding=(3, 3), groups=768)\n",
              "          (1): Permute()\n",
              "          (2): LayerNorm((768,), eps=1e-06, elementwise_affine=True)\n",
              "          (3): Linear(in_features=768, out_features=3072, bias=True)\n",
              "          (4): GELU(approximate='none')\n",
              "          (5): Linear(in_features=3072, out_features=768, bias=True)\n",
              "          (6): Permute()\n",
              "        )\n",
              "        (stochastic_depth): StochasticDepth(p=0.15714285714285714, mode=row)\n",
              "      )\n",
              "      (6): CNBlock(\n",
              "        (block): Sequential(\n",
              "          (0): Conv2d(768, 768, kernel_size=(7, 7), stride=(1, 1), padding=(3, 3), groups=768)\n",
              "          (1): Permute()\n",
              "          (2): LayerNorm((768,), eps=1e-06, elementwise_affine=True)\n",
              "          (3): Linear(in_features=768, out_features=3072, bias=True)\n",
              "          (4): GELU(approximate='none')\n",
              "          (5): Linear(in_features=3072, out_features=768, bias=True)\n",
              "          (6): Permute()\n",
              "        )\n",
              "        (stochastic_depth): StochasticDepth(p=0.17142857142857143, mode=row)\n",
              "      )\n",
              "      (7): CNBlock(\n",
              "        (block): Sequential(\n",
              "          (0): Conv2d(768, 768, kernel_size=(7, 7), stride=(1, 1), padding=(3, 3), groups=768)\n",
              "          (1): Permute()\n",
              "          (2): LayerNorm((768,), eps=1e-06, elementwise_affine=True)\n",
              "          (3): Linear(in_features=768, out_features=3072, bias=True)\n",
              "          (4): GELU(approximate='none')\n",
              "          (5): Linear(in_features=3072, out_features=768, bias=True)\n",
              "          (6): Permute()\n",
              "        )\n",
              "        (stochastic_depth): StochasticDepth(p=0.18571428571428572, mode=row)\n",
              "      )\n",
              "      (8): CNBlock(\n",
              "        (block): Sequential(\n",
              "          (0): Conv2d(768, 768, kernel_size=(7, 7), stride=(1, 1), padding=(3, 3), groups=768)\n",
              "          (1): Permute()\n",
              "          (2): LayerNorm((768,), eps=1e-06, elementwise_affine=True)\n",
              "          (3): Linear(in_features=768, out_features=3072, bias=True)\n",
              "          (4): GELU(approximate='none')\n",
              "          (5): Linear(in_features=3072, out_features=768, bias=True)\n",
              "          (6): Permute()\n",
              "        )\n",
              "        (stochastic_depth): StochasticDepth(p=0.2, mode=row)\n",
              "      )\n",
              "      (9): CNBlock(\n",
              "        (block): Sequential(\n",
              "          (0): Conv2d(768, 768, kernel_size=(7, 7), stride=(1, 1), padding=(3, 3), groups=768)\n",
              "          (1): Permute()\n",
              "          (2): LayerNorm((768,), eps=1e-06, elementwise_affine=True)\n",
              "          (3): Linear(in_features=768, out_features=3072, bias=True)\n",
              "          (4): GELU(approximate='none')\n",
              "          (5): Linear(in_features=3072, out_features=768, bias=True)\n",
              "          (6): Permute()\n",
              "        )\n",
              "        (stochastic_depth): StochasticDepth(p=0.21428571428571427, mode=row)\n",
              "      )\n",
              "      (10): CNBlock(\n",
              "        (block): Sequential(\n",
              "          (0): Conv2d(768, 768, kernel_size=(7, 7), stride=(1, 1), padding=(3, 3), groups=768)\n",
              "          (1): Permute()\n",
              "          (2): LayerNorm((768,), eps=1e-06, elementwise_affine=True)\n",
              "          (3): Linear(in_features=768, out_features=3072, bias=True)\n",
              "          (4): GELU(approximate='none')\n",
              "          (5): Linear(in_features=3072, out_features=768, bias=True)\n",
              "          (6): Permute()\n",
              "        )\n",
              "        (stochastic_depth): StochasticDepth(p=0.22857142857142856, mode=row)\n",
              "      )\n",
              "      (11): CNBlock(\n",
              "        (block): Sequential(\n",
              "          (0): Conv2d(768, 768, kernel_size=(7, 7), stride=(1, 1), padding=(3, 3), groups=768)\n",
              "          (1): Permute()\n",
              "          (2): LayerNorm((768,), eps=1e-06, elementwise_affine=True)\n",
              "          (3): Linear(in_features=768, out_features=3072, bias=True)\n",
              "          (4): GELU(approximate='none')\n",
              "          (5): Linear(in_features=3072, out_features=768, bias=True)\n",
              "          (6): Permute()\n",
              "        )\n",
              "        (stochastic_depth): StochasticDepth(p=0.24285714285714285, mode=row)\n",
              "      )\n",
              "      (12): CNBlock(\n",
              "        (block): Sequential(\n",
              "          (0): Conv2d(768, 768, kernel_size=(7, 7), stride=(1, 1), padding=(3, 3), groups=768)\n",
              "          (1): Permute()\n",
              "          (2): LayerNorm((768,), eps=1e-06, elementwise_affine=True)\n",
              "          (3): Linear(in_features=768, out_features=3072, bias=True)\n",
              "          (4): GELU(approximate='none')\n",
              "          (5): Linear(in_features=3072, out_features=768, bias=True)\n",
              "          (6): Permute()\n",
              "        )\n",
              "        (stochastic_depth): StochasticDepth(p=0.2571428571428571, mode=row)\n",
              "      )\n",
              "      (13): CNBlock(\n",
              "        (block): Sequential(\n",
              "          (0): Conv2d(768, 768, kernel_size=(7, 7), stride=(1, 1), padding=(3, 3), groups=768)\n",
              "          (1): Permute()\n",
              "          (2): LayerNorm((768,), eps=1e-06, elementwise_affine=True)\n",
              "          (3): Linear(in_features=768, out_features=3072, bias=True)\n",
              "          (4): GELU(approximate='none')\n",
              "          (5): Linear(in_features=3072, out_features=768, bias=True)\n",
              "          (6): Permute()\n",
              "        )\n",
              "        (stochastic_depth): StochasticDepth(p=0.2714285714285714, mode=row)\n",
              "      )\n",
              "      (14): CNBlock(\n",
              "        (block): Sequential(\n",
              "          (0): Conv2d(768, 768, kernel_size=(7, 7), stride=(1, 1), padding=(3, 3), groups=768)\n",
              "          (1): Permute()\n",
              "          (2): LayerNorm((768,), eps=1e-06, elementwise_affine=True)\n",
              "          (3): Linear(in_features=768, out_features=3072, bias=True)\n",
              "          (4): GELU(approximate='none')\n",
              "          (5): Linear(in_features=3072, out_features=768, bias=True)\n",
              "          (6): Permute()\n",
              "        )\n",
              "        (stochastic_depth): StochasticDepth(p=0.2857142857142857, mode=row)\n",
              "      )\n",
              "      (15): CNBlock(\n",
              "        (block): Sequential(\n",
              "          (0): Conv2d(768, 768, kernel_size=(7, 7), stride=(1, 1), padding=(3, 3), groups=768)\n",
              "          (1): Permute()\n",
              "          (2): LayerNorm((768,), eps=1e-06, elementwise_affine=True)\n",
              "          (3): Linear(in_features=768, out_features=3072, bias=True)\n",
              "          (4): GELU(approximate='none')\n",
              "          (5): Linear(in_features=3072, out_features=768, bias=True)\n",
              "          (6): Permute()\n",
              "        )\n",
              "        (stochastic_depth): StochasticDepth(p=0.3, mode=row)\n",
              "      )\n",
              "      (16): CNBlock(\n",
              "        (block): Sequential(\n",
              "          (0): Conv2d(768, 768, kernel_size=(7, 7), stride=(1, 1), padding=(3, 3), groups=768)\n",
              "          (1): Permute()\n",
              "          (2): LayerNorm((768,), eps=1e-06, elementwise_affine=True)\n",
              "          (3): Linear(in_features=768, out_features=3072, bias=True)\n",
              "          (4): GELU(approximate='none')\n",
              "          (5): Linear(in_features=3072, out_features=768, bias=True)\n",
              "          (6): Permute()\n",
              "        )\n",
              "        (stochastic_depth): StochasticDepth(p=0.3142857142857143, mode=row)\n",
              "      )\n",
              "      (17): CNBlock(\n",
              "        (block): Sequential(\n",
              "          (0): Conv2d(768, 768, kernel_size=(7, 7), stride=(1, 1), padding=(3, 3), groups=768)\n",
              "          (1): Permute()\n",
              "          (2): LayerNorm((768,), eps=1e-06, elementwise_affine=True)\n",
              "          (3): Linear(in_features=768, out_features=3072, bias=True)\n",
              "          (4): GELU(approximate='none')\n",
              "          (5): Linear(in_features=3072, out_features=768, bias=True)\n",
              "          (6): Permute()\n",
              "        )\n",
              "        (stochastic_depth): StochasticDepth(p=0.32857142857142857, mode=row)\n",
              "      )\n",
              "      (18): CNBlock(\n",
              "        (block): Sequential(\n",
              "          (0): Conv2d(768, 768, kernel_size=(7, 7), stride=(1, 1), padding=(3, 3), groups=768)\n",
              "          (1): Permute()\n",
              "          (2): LayerNorm((768,), eps=1e-06, elementwise_affine=True)\n",
              "          (3): Linear(in_features=768, out_features=3072, bias=True)\n",
              "          (4): GELU(approximate='none')\n",
              "          (5): Linear(in_features=3072, out_features=768, bias=True)\n",
              "          (6): Permute()\n",
              "        )\n",
              "        (stochastic_depth): StochasticDepth(p=0.34285714285714286, mode=row)\n",
              "      )\n",
              "      (19): CNBlock(\n",
              "        (block): Sequential(\n",
              "          (0): Conv2d(768, 768, kernel_size=(7, 7), stride=(1, 1), padding=(3, 3), groups=768)\n",
              "          (1): Permute()\n",
              "          (2): LayerNorm((768,), eps=1e-06, elementwise_affine=True)\n",
              "          (3): Linear(in_features=768, out_features=3072, bias=True)\n",
              "          (4): GELU(approximate='none')\n",
              "          (5): Linear(in_features=3072, out_features=768, bias=True)\n",
              "          (6): Permute()\n",
              "        )\n",
              "        (stochastic_depth): StochasticDepth(p=0.35714285714285715, mode=row)\n",
              "      )\n",
              "      (20): CNBlock(\n",
              "        (block): Sequential(\n",
              "          (0): Conv2d(768, 768, kernel_size=(7, 7), stride=(1, 1), padding=(3, 3), groups=768)\n",
              "          (1): Permute()\n",
              "          (2): LayerNorm((768,), eps=1e-06, elementwise_affine=True)\n",
              "          (3): Linear(in_features=768, out_features=3072, bias=True)\n",
              "          (4): GELU(approximate='none')\n",
              "          (5): Linear(in_features=3072, out_features=768, bias=True)\n",
              "          (6): Permute()\n",
              "        )\n",
              "        (stochastic_depth): StochasticDepth(p=0.37142857142857144, mode=row)\n",
              "      )\n",
              "      (21): CNBlock(\n",
              "        (block): Sequential(\n",
              "          (0): Conv2d(768, 768, kernel_size=(7, 7), stride=(1, 1), padding=(3, 3), groups=768)\n",
              "          (1): Permute()\n",
              "          (2): LayerNorm((768,), eps=1e-06, elementwise_affine=True)\n",
              "          (3): Linear(in_features=768, out_features=3072, bias=True)\n",
              "          (4): GELU(approximate='none')\n",
              "          (5): Linear(in_features=3072, out_features=768, bias=True)\n",
              "          (6): Permute()\n",
              "        )\n",
              "        (stochastic_depth): StochasticDepth(p=0.38571428571428573, mode=row)\n",
              "      )\n",
              "      (22): CNBlock(\n",
              "        (block): Sequential(\n",
              "          (0): Conv2d(768, 768, kernel_size=(7, 7), stride=(1, 1), padding=(3, 3), groups=768)\n",
              "          (1): Permute()\n",
              "          (2): LayerNorm((768,), eps=1e-06, elementwise_affine=True)\n",
              "          (3): Linear(in_features=768, out_features=3072, bias=True)\n",
              "          (4): GELU(approximate='none')\n",
              "          (5): Linear(in_features=3072, out_features=768, bias=True)\n",
              "          (6): Permute()\n",
              "        )\n",
              "        (stochastic_depth): StochasticDepth(p=0.4, mode=row)\n",
              "      )\n",
              "      (23): CNBlock(\n",
              "        (block): Sequential(\n",
              "          (0): Conv2d(768, 768, kernel_size=(7, 7), stride=(1, 1), padding=(3, 3), groups=768)\n",
              "          (1): Permute()\n",
              "          (2): LayerNorm((768,), eps=1e-06, elementwise_affine=True)\n",
              "          (3): Linear(in_features=768, out_features=3072, bias=True)\n",
              "          (4): GELU(approximate='none')\n",
              "          (5): Linear(in_features=3072, out_features=768, bias=True)\n",
              "          (6): Permute()\n",
              "        )\n",
              "        (stochastic_depth): StochasticDepth(p=0.4142857142857143, mode=row)\n",
              "      )\n",
              "      (24): CNBlock(\n",
              "        (block): Sequential(\n",
              "          (0): Conv2d(768, 768, kernel_size=(7, 7), stride=(1, 1), padding=(3, 3), groups=768)\n",
              "          (1): Permute()\n",
              "          (2): LayerNorm((768,), eps=1e-06, elementwise_affine=True)\n",
              "          (3): Linear(in_features=768, out_features=3072, bias=True)\n",
              "          (4): GELU(approximate='none')\n",
              "          (5): Linear(in_features=3072, out_features=768, bias=True)\n",
              "          (6): Permute()\n",
              "        )\n",
              "        (stochastic_depth): StochasticDepth(p=0.42857142857142855, mode=row)\n",
              "      )\n",
              "      (25): CNBlock(\n",
              "        (block): Sequential(\n",
              "          (0): Conv2d(768, 768, kernel_size=(7, 7), stride=(1, 1), padding=(3, 3), groups=768)\n",
              "          (1): Permute()\n",
              "          (2): LayerNorm((768,), eps=1e-06, elementwise_affine=True)\n",
              "          (3): Linear(in_features=768, out_features=3072, bias=True)\n",
              "          (4): GELU(approximate='none')\n",
              "          (5): Linear(in_features=3072, out_features=768, bias=True)\n",
              "          (6): Permute()\n",
              "        )\n",
              "        (stochastic_depth): StochasticDepth(p=0.44285714285714284, mode=row)\n",
              "      )\n",
              "      (26): CNBlock(\n",
              "        (block): Sequential(\n",
              "          (0): Conv2d(768, 768, kernel_size=(7, 7), stride=(1, 1), padding=(3, 3), groups=768)\n",
              "          (1): Permute()\n",
              "          (2): LayerNorm((768,), eps=1e-06, elementwise_affine=True)\n",
              "          (3): Linear(in_features=768, out_features=3072, bias=True)\n",
              "          (4): GELU(approximate='none')\n",
              "          (5): Linear(in_features=3072, out_features=768, bias=True)\n",
              "          (6): Permute()\n",
              "        )\n",
              "        (stochastic_depth): StochasticDepth(p=0.45714285714285713, mode=row)\n",
              "      )\n",
              "    )\n",
              "    (6): Sequential(\n",
              "      (0): LayerNorm2d((768,), eps=1e-06, elementwise_affine=True)\n",
              "      (1): Conv2d(768, 1536, kernel_size=(2, 2), stride=(2, 2))\n",
              "    )\n",
              "    (7): Sequential(\n",
              "      (0): CNBlock(\n",
              "        (block): Sequential(\n",
              "          (0): Conv2d(1536, 1536, kernel_size=(7, 7), stride=(1, 1), padding=(3, 3), groups=1536)\n",
              "          (1): Permute()\n",
              "          (2): LayerNorm((1536,), eps=1e-06, elementwise_affine=True)\n",
              "          (3): Linear(in_features=1536, out_features=6144, bias=True)\n",
              "          (4): GELU(approximate='none')\n",
              "          (5): Linear(in_features=6144, out_features=1536, bias=True)\n",
              "          (6): Permute()\n",
              "        )\n",
              "        (stochastic_depth): StochasticDepth(p=0.4714285714285714, mode=row)\n",
              "      )\n",
              "      (1): CNBlock(\n",
              "        (block): Sequential(\n",
              "          (0): Conv2d(1536, 1536, kernel_size=(7, 7), stride=(1, 1), padding=(3, 3), groups=1536)\n",
              "          (1): Permute()\n",
              "          (2): LayerNorm((1536,), eps=1e-06, elementwise_affine=True)\n",
              "          (3): Linear(in_features=1536, out_features=6144, bias=True)\n",
              "          (4): GELU(approximate='none')\n",
              "          (5): Linear(in_features=6144, out_features=1536, bias=True)\n",
              "          (6): Permute()\n",
              "        )\n",
              "        (stochastic_depth): StochasticDepth(p=0.4857142857142857, mode=row)\n",
              "      )\n",
              "      (2): CNBlock(\n",
              "        (block): Sequential(\n",
              "          (0): Conv2d(1536, 1536, kernel_size=(7, 7), stride=(1, 1), padding=(3, 3), groups=1536)\n",
              "          (1): Permute()\n",
              "          (2): LayerNorm((1536,), eps=1e-06, elementwise_affine=True)\n",
              "          (3): Linear(in_features=1536, out_features=6144, bias=True)\n",
              "          (4): GELU(approximate='none')\n",
              "          (5): Linear(in_features=6144, out_features=1536, bias=True)\n",
              "          (6): Permute()\n",
              "        )\n",
              "        (stochastic_depth): StochasticDepth(p=0.5, mode=row)\n",
              "      )\n",
              "    )\n",
              "  )\n",
              "  (avgpool): AdaptiveAvgPool2d(output_size=1)\n",
              "  (classifier): Sequential(\n",
              "    (0): LayerNorm2d((1536,), eps=1e-06, elementwise_affine=True)\n",
              "    (1): Flatten(start_dim=1, end_dim=-1)\n",
              "    (2): Linear(in_features=1536, out_features=1000, bias=True)\n",
              "  )\n",
              ")"
            ]
          },
          "metadata": {},
          "execution_count": 4
        }
      ],
      "source": [
        "from torchvision.models import convnext_large\n",
        "\n",
        "convnext_large()"
      ]
    },
    {
      "cell_type": "markdown",
      "metadata": {
        "id": "Flwqk0YjxPLE"
      },
      "source": [
        "### Тренировочный класс lightning"
      ]
    },
    {
      "cell_type": "code",
      "source": [
        "# за основу взят код из семинара 5\n",
        "\n",
        "class MyConvNeXt(pl.LightningModule):\n",
        "    def __init__(self):\n",
        "        super().__init__()\n",
        "        # явно задаю модель и то, что она будет предобучена всегда,\n",
        "        # надеюсь в контексте дз это норм...\n",
        "        self.pretrained = True\n",
        "\n",
        "        self.model = convnext_large(weights=\"DEFAULT\")\n",
        "        self.model.classifier[2] = nn.Identity()\n",
        "        self.classifier = nn.Linear(1536, 200)\n",
        "        self.optimizer = torch.optim.Adam(self.classifier.parameters(), 0.001)\n",
        "        self.loss = nn.CrossEntropyLoss()\n",
        "\n",
        "\n",
        "    def forward(self, x):\n",
        "        with torch.no_grad():\n",
        "          features = self.model(x)\n",
        "        preds = self.classifier(features)\n",
        "        return preds\n",
        "\n",
        "    def configure_optimizers(self):\n",
        "        return self.optimizer\n",
        "\n",
        "    def training_step(self, train_batch, batch_idx):\n",
        "        images, target = train_batch\n",
        "        preds = self.forward(images)\n",
        "        loss = self.loss(preds, target)\n",
        "        self.log(\"train_loss\", loss, prog_bar=True)\n",
        "        return loss\n",
        "\n",
        "    def validation_step(self, val_batch, batch_idx):\n",
        "        images, target = val_batch\n",
        "        preds = self.forward(images)\n",
        "        loss = self.loss(preds, target)\n",
        "        acc = accuracy(torch.argmax(preds, dim=-1).long(), target.long(), task='multiclass', num_classes=200)\n",
        "        self.log(\"val_loss\", loss, prog_bar=True)\n",
        "        self.log(\"accuracy\", acc, prog_bar=True)\n"
      ],
      "metadata": {
        "id": "66_BgZUroCKE"
      },
      "execution_count": null,
      "outputs": []
    },
    {
      "cell_type": "code",
      "source": [
        "module = MyConvNeXt()\n",
        "\n",
        "trainer = pl.Trainer(max_epochs=2, accelerator=\"gpu\")\n",
        "trainer.fit(module, train_dataloader, val_dataloader)"
      ],
      "metadata": {
        "colab": {
          "base_uri": "https://localhost:8080/",
          "height": 360,
          "referenced_widgets": [
            "1775cb3cc3d44ce4a988522eae683308",
            "45a4718a934f4ee89125a60a4d89b605",
            "21f039ff157a4d2d9c60796add54b746",
            "5042ca812a8f4a2ab73fff28852c917e",
            "e48501b9ab634a44af1617804c0ce2c4",
            "f86461cd97be48438951c672c0937316",
            "79148f804bab418894c9246b7e8816b8",
            "6ea455bc150f4faf9bdd80a2fd5240e9",
            "88250ddc168342719dcf2e39b80f18ff",
            "fbfa084730a94dcca0484e72c7302de9",
            "f178b8e6e07b4425ab56655ac7677fea",
            "c3ffdaa1762c4f46a9059ae2ecff9058",
            "4be97a7b2d994811b3ff83dc0821b37d",
            "26093667e63b4e03b74a661aa96f63f8",
            "11aef60193ae4c23a533bf5ca27c0591",
            "c70879f5316841be90dd4fb2a54c1f57",
            "6a1af7723ac7453895fe272ed447d250",
            "9b348529b80a4ef49b0cf39db300b430",
            "f60d9fd0b9b149ab84024482f52a420e",
            "83b8679d0c014ccbac5623100e2704a9",
            "80b7d114883d477eac0f0bb1bc09b171",
            "853ce1618a934e9b9d7c75d7a53c28a1",
            "8a626e7b5f4a4537a972131ad739af62",
            "40b8a86c9674499283a1a0150aea4e53",
            "ebc596eeba89447eaa4cf8eecd988a41",
            "c7b16ebeb95d47ffb6513404794f5e86",
            "795584ef388c4160b4d6e0876cf3ddbd",
            "d96967a3335d45788b77218656b1e169",
            "31f9b667d5ed4f03b056a7a05d65a332",
            "05eba1bef27c4e00abe9a2bcce1812f8",
            "1354b7694ab340aa9db735cdc0daaa65",
            "a1fda1c5bc3d4c89889ca7798f68dcc9",
            "64e4b2302b704137bb75d7ea41242509"
          ]
        },
        "id": "x1P6Ux4yt7Dn",
        "outputId": "b7e48100-f327-4584-b7f9-5f030287a499"
      },
      "execution_count": null,
      "outputs": [
        {
          "output_type": "stream",
          "name": "stderr",
          "text": [
            "INFO:pytorch_lightning.utilities.rank_zero:GPU available: True (cuda), used: True\n",
            "INFO:pytorch_lightning.utilities.rank_zero:TPU available: False, using: 0 TPU cores\n",
            "INFO:pytorch_lightning.utilities.rank_zero:IPU available: False, using: 0 IPUs\n",
            "INFO:pytorch_lightning.utilities.rank_zero:HPU available: False, using: 0 HPUs\n",
            "INFO:pytorch_lightning.accelerators.cuda:LOCAL_RANK: 0 - CUDA_VISIBLE_DEVICES: [0]\n",
            "INFO:pytorch_lightning.callbacks.model_summary:\n",
            "  | Name       | Type             | Params\n",
            "------------------------------------------------\n",
            "0 | model      | ConvNeXt         | 196 M \n",
            "1 | classifier | Linear           | 307 K \n",
            "2 | loss       | CrossEntropyLoss | 0     \n",
            "------------------------------------------------\n",
            "196 M     Trainable params\n",
            "0         Non-trainable params\n",
            "196 M     Total params\n",
            "786.151   Total estimated model params size (MB)\n"
          ]
        },
        {
          "output_type": "display_data",
          "data": {
            "text/plain": [
              "Sanity Checking: |          | 0/? [00:00<?, ?it/s]"
            ],
            "application/vnd.jupyter.widget-view+json": {
              "version_major": 2,
              "version_minor": 0,
              "model_id": "1775cb3cc3d44ce4a988522eae683308"
            }
          },
          "metadata": {}
        },
        {
          "output_type": "display_data",
          "data": {
            "text/plain": [
              "Training: |          | 0/? [00:00<?, ?it/s]"
            ],
            "application/vnd.jupyter.widget-view+json": {
              "version_major": 2,
              "version_minor": 0,
              "model_id": "c3ffdaa1762c4f46a9059ae2ecff9058"
            }
          },
          "metadata": {}
        },
        {
          "output_type": "display_data",
          "data": {
            "text/plain": [
              "Validation: |          | 0/? [00:00<?, ?it/s]"
            ],
            "application/vnd.jupyter.widget-view+json": {
              "version_major": 2,
              "version_minor": 0,
              "model_id": "8a626e7b5f4a4537a972131ad739af62"
            }
          },
          "metadata": {}
        },
        {
          "output_type": "stream",
          "name": "stderr",
          "text": [
            "/usr/local/lib/python3.10/dist-packages/pytorch_lightning/trainer/call.py:54: Detected KeyboardInterrupt, attempting graceful shutdown...\n"
          ]
        }
      ]
    },
    {
      "cell_type": "markdown",
      "metadata": {
        "id": "u5D2bwOKSHVp"
      },
      "source": [
        "### Валидация результатов задания"
      ]
    },
    {
      "cell_type": "code",
      "execution_count": null,
      "metadata": {
        "id": "PEdwJE5uOrIM",
        "colab": {
          "base_uri": "https://localhost:8080/"
        },
        "outputId": "5a55316a-2acc-4697-857f-2ee88340cd23"
      },
      "outputs": [
        {
          "output_type": "stream",
          "name": "stderr",
          "text": [
            "\n",
            "  0%|          | 0/157 [00:00<?, ?it/s]\u001b[A\n",
            "  1%|          | 1/157 [00:02<05:39,  2.18s/it]\u001b[A\n",
            "  1%|▏         | 2/157 [00:03<04:26,  1.72s/it]\u001b[A\n",
            "  2%|▏         | 3/157 [00:04<04:01,  1.57s/it]\u001b[A\n",
            "  3%|▎         | 4/157 [00:06<03:48,  1.50s/it]\u001b[A\n",
            "  3%|▎         | 5/157 [00:07<03:42,  1.46s/it]\u001b[A\n",
            "  4%|▍         | 6/157 [00:09<03:37,  1.44s/it]\u001b[A\n",
            "  4%|▍         | 7/157 [00:10<03:33,  1.43s/it]\u001b[A\n",
            "  5%|▌         | 8/157 [00:11<03:32,  1.42s/it]\u001b[A\n",
            "  6%|▌         | 9/157 [00:13<03:30,  1.42s/it]\u001b[A\n",
            "  6%|▋         | 10/157 [00:14<03:29,  1.43s/it]\u001b[A\n",
            "  7%|▋         | 11/157 [00:16<03:28,  1.43s/it]\u001b[A\n",
            "  8%|▊         | 12/157 [00:17<03:27,  1.43s/it]\u001b[A\n",
            "  8%|▊         | 13/157 [00:19<03:26,  1.44s/it]\u001b[A\n",
            "  9%|▉         | 14/157 [00:20<03:25,  1.44s/it]\u001b[A\n",
            " 10%|▉         | 15/157 [00:22<03:24,  1.44s/it]\u001b[A\n",
            " 10%|█         | 16/157 [00:23<03:22,  1.44s/it]\u001b[A\n",
            " 11%|█         | 17/157 [00:24<03:22,  1.44s/it]\u001b[A\n",
            " 11%|█▏        | 18/157 [00:26<03:19,  1.44s/it]\u001b[A\n",
            " 12%|█▏        | 19/157 [00:27<03:17,  1.43s/it]\u001b[A\n",
            " 13%|█▎        | 20/157 [00:29<03:16,  1.44s/it]\u001b[A\n",
            " 13%|█▎        | 21/157 [00:30<03:16,  1.45s/it]\u001b[A\n",
            " 14%|█▍        | 22/157 [00:32<03:16,  1.45s/it]\u001b[A\n",
            " 15%|█▍        | 23/157 [00:33<03:14,  1.45s/it]\u001b[A\n",
            " 15%|█▌        | 24/157 [00:35<03:13,  1.46s/it]\u001b[A\n",
            " 16%|█▌        | 25/157 [00:36<03:12,  1.46s/it]\u001b[A\n",
            " 17%|█▋        | 26/157 [00:37<03:11,  1.46s/it]\u001b[A\n",
            " 17%|█▋        | 27/157 [00:39<03:10,  1.47s/it]\u001b[A\n",
            " 18%|█▊        | 28/157 [00:40<03:08,  1.46s/it]\u001b[A\n",
            " 18%|█▊        | 29/157 [00:42<03:07,  1.47s/it]\u001b[A\n",
            " 19%|█▉        | 30/157 [00:43<03:07,  1.47s/it]\u001b[A\n",
            " 20%|█▉        | 31/157 [00:45<03:06,  1.48s/it]\u001b[A\n",
            " 20%|██        | 32/157 [00:46<03:05,  1.48s/it]\u001b[A\n",
            " 21%|██        | 33/157 [00:48<03:04,  1.49s/it]\u001b[A\n",
            " 22%|██▏       | 34/157 [00:49<03:03,  1.49s/it]\u001b[A\n",
            " 22%|██▏       | 35/157 [00:51<03:02,  1.50s/it]\u001b[A\n",
            " 23%|██▎       | 36/157 [00:52<03:01,  1.50s/it]\u001b[A\n",
            " 24%|██▎       | 37/157 [00:54<03:00,  1.51s/it]\u001b[A\n",
            " 24%|██▍       | 38/157 [00:55<02:59,  1.51s/it]\u001b[A\n",
            " 25%|██▍       | 39/157 [00:57<02:58,  1.52s/it]\u001b[A\n",
            " 25%|██▌       | 40/157 [00:58<02:57,  1.52s/it]\u001b[A\n",
            " 26%|██▌       | 41/157 [01:00<02:56,  1.52s/it]\u001b[A\n",
            " 27%|██▋       | 42/157 [01:02<02:55,  1.53s/it]\u001b[A\n",
            " 27%|██▋       | 43/157 [01:03<02:55,  1.54s/it]\u001b[A\n",
            " 28%|██▊       | 44/157 [01:05<02:53,  1.54s/it]\u001b[A\n",
            " 29%|██▊       | 45/157 [01:06<02:52,  1.54s/it]\u001b[A\n",
            " 29%|██▉       | 46/157 [01:08<02:50,  1.54s/it]\u001b[A\n",
            " 30%|██▉       | 47/157 [01:09<02:49,  1.54s/it]\u001b[A\n",
            " 31%|███       | 48/157 [01:11<02:47,  1.54s/it]\u001b[A\n",
            " 31%|███       | 49/157 [01:12<02:46,  1.54s/it]\u001b[A\n",
            " 32%|███▏      | 50/157 [01:14<02:43,  1.53s/it]\u001b[A\n",
            " 32%|███▏      | 51/157 [01:15<02:42,  1.53s/it]\u001b[A\n",
            " 33%|███▎      | 52/157 [01:17<02:40,  1.53s/it]\u001b[A\n",
            " 34%|███▍      | 53/157 [01:18<02:39,  1.53s/it]\u001b[A\n",
            " 34%|███▍      | 54/157 [01:20<02:37,  1.53s/it]\u001b[A\n",
            " 35%|███▌      | 55/157 [01:21<02:35,  1.52s/it]\u001b[A\n",
            " 36%|███▌      | 56/157 [01:23<02:32,  1.51s/it]\u001b[A\n",
            " 36%|███▋      | 57/157 [01:24<02:30,  1.51s/it]\u001b[A\n",
            " 37%|███▋      | 58/157 [01:26<02:28,  1.50s/it]\u001b[A\n",
            " 38%|███▊      | 59/157 [01:27<02:26,  1.50s/it]\u001b[A\n",
            " 38%|███▊      | 60/157 [01:29<02:25,  1.50s/it]\u001b[A\n",
            " 39%|███▉      | 61/157 [01:30<02:24,  1.50s/it]\u001b[A\n",
            " 39%|███▉      | 62/157 [01:32<02:22,  1.50s/it]\u001b[A\n",
            " 40%|████      | 63/157 [01:33<02:21,  1.50s/it]\u001b[A\n",
            " 41%|████      | 64/157 [01:35<02:18,  1.49s/it]\u001b[A\n",
            " 41%|████▏     | 65/157 [01:36<02:17,  1.49s/it]\u001b[A\n",
            " 42%|████▏     | 66/157 [01:38<02:15,  1.48s/it]\u001b[A\n",
            " 43%|████▎     | 67/157 [01:39<02:13,  1.48s/it]\u001b[A\n",
            " 43%|████▎     | 68/157 [01:41<02:11,  1.48s/it]\u001b[A\n",
            " 44%|████▍     | 69/157 [01:42<02:10,  1.48s/it]\u001b[A\n",
            " 45%|████▍     | 70/157 [01:44<02:08,  1.48s/it]\u001b[A\n",
            " 45%|████▌     | 71/157 [01:45<02:07,  1.48s/it]\u001b[A\n",
            " 46%|████▌     | 72/157 [01:47<02:06,  1.48s/it]\u001b[A\n",
            " 46%|████▋     | 73/157 [01:48<02:04,  1.49s/it]\u001b[A\n",
            " 47%|████▋     | 74/157 [01:50<02:03,  1.48s/it]\u001b[A\n",
            " 48%|████▊     | 75/157 [01:51<02:01,  1.48s/it]\u001b[A\n",
            " 48%|████▊     | 76/157 [01:53<01:59,  1.48s/it]\u001b[A\n",
            " 49%|████▉     | 77/157 [01:54<01:58,  1.48s/it]\u001b[A\n",
            " 50%|████▉     | 78/157 [01:56<01:56,  1.48s/it]\u001b[A\n",
            " 50%|█████     | 79/157 [01:57<01:55,  1.48s/it]\u001b[A\n",
            " 51%|█████     | 80/157 [01:59<01:53,  1.48s/it]\u001b[A\n",
            " 52%|█████▏    | 81/157 [02:00<01:52,  1.48s/it]\u001b[A\n",
            " 52%|█████▏    | 82/157 [02:02<01:51,  1.48s/it]\u001b[A\n",
            " 53%|█████▎    | 83/157 [02:03<01:49,  1.48s/it]\u001b[A\n",
            " 54%|█████▎    | 84/157 [02:05<01:48,  1.48s/it]\u001b[A\n",
            " 54%|█████▍    | 85/157 [02:06<01:46,  1.48s/it]\u001b[A\n",
            " 55%|█████▍    | 86/157 [02:08<01:45,  1.48s/it]\u001b[A\n",
            " 55%|█████▌    | 87/157 [02:09<01:43,  1.48s/it]\u001b[A\n",
            " 56%|█████▌    | 88/157 [02:10<01:42,  1.48s/it]\u001b[A\n",
            " 57%|█████▋    | 89/157 [02:12<01:40,  1.48s/it]\u001b[A\n",
            " 57%|█████▋    | 90/157 [02:13<01:39,  1.48s/it]\u001b[A\n",
            " 58%|█████▊    | 91/157 [02:15<01:38,  1.49s/it]\u001b[A\n",
            " 59%|█████▊    | 92/157 [02:16<01:37,  1.50s/it]\u001b[A\n",
            " 59%|█████▉    | 93/157 [02:18<01:36,  1.50s/it]\u001b[A\n",
            " 60%|█████▉    | 94/157 [02:19<01:34,  1.50s/it]\u001b[A\n",
            " 61%|██████    | 95/157 [02:21<01:32,  1.50s/it]\u001b[A\n",
            " 61%|██████    | 96/157 [02:22<01:31,  1.50s/it]\u001b[A\n",
            " 62%|██████▏   | 97/157 [02:24<01:29,  1.50s/it]\u001b[A\n",
            " 62%|██████▏   | 98/157 [02:25<01:28,  1.50s/it]\u001b[A\n",
            " 63%|██████▎   | 99/157 [02:27<01:27,  1.50s/it]\u001b[A\n",
            " 64%|██████▎   | 100/157 [02:28<01:25,  1.51s/it]\u001b[A\n",
            " 64%|██████▍   | 101/157 [02:30<01:24,  1.51s/it]\u001b[A\n",
            " 65%|██████▍   | 102/157 [02:32<01:22,  1.51s/it]\u001b[A\n",
            " 66%|██████▌   | 103/157 [02:33<01:21,  1.51s/it]\u001b[A\n",
            " 66%|██████▌   | 104/157 [02:35<01:20,  1.51s/it]\u001b[A\n",
            " 67%|██████▋   | 105/157 [02:36<01:18,  1.51s/it]\u001b[A\n",
            " 68%|██████▊   | 106/157 [02:38<01:16,  1.51s/it]\u001b[A\n",
            " 68%|██████▊   | 107/157 [02:39<01:15,  1.51s/it]\u001b[A\n",
            " 69%|██████▉   | 108/157 [02:41<01:13,  1.51s/it]\u001b[A\n",
            " 69%|██████▉   | 109/157 [02:42<01:12,  1.50s/it]\u001b[A\n",
            " 70%|███████   | 110/157 [02:44<01:10,  1.51s/it]\u001b[A\n",
            " 71%|███████   | 111/157 [02:45<01:09,  1.51s/it]\u001b[A\n",
            " 71%|███████▏  | 112/157 [02:47<01:08,  1.51s/it]\u001b[A\n",
            " 72%|███████▏  | 113/157 [02:48<01:06,  1.51s/it]\u001b[A\n",
            " 73%|███████▎  | 114/157 [02:50<01:05,  1.51s/it]\u001b[A\n",
            " 73%|███████▎  | 115/157 [02:51<01:03,  1.51s/it]\u001b[A\n",
            " 74%|███████▍  | 116/157 [02:53<01:01,  1.50s/it]\u001b[A\n",
            " 75%|███████▍  | 117/157 [02:54<01:00,  1.50s/it]\u001b[A\n",
            " 75%|███████▌  | 118/157 [02:56<00:58,  1.50s/it]\u001b[A\n",
            " 76%|███████▌  | 119/157 [02:57<00:57,  1.50s/it]\u001b[A\n",
            " 76%|███████▋  | 120/157 [02:59<00:55,  1.50s/it]\u001b[A\n",
            " 77%|███████▋  | 121/157 [03:00<00:54,  1.50s/it]\u001b[A\n",
            " 78%|███████▊  | 122/157 [03:02<00:52,  1.51s/it]\u001b[A\n",
            " 78%|███████▊  | 123/157 [03:03<00:51,  1.51s/it]\u001b[A\n",
            " 79%|███████▉  | 124/157 [03:05<00:49,  1.51s/it]\u001b[A\n",
            " 80%|███████▉  | 125/157 [03:06<00:48,  1.50s/it]\u001b[A\n",
            " 80%|████████  | 126/157 [03:08<00:46,  1.50s/it]\u001b[A\n",
            " 81%|████████  | 127/157 [03:09<00:45,  1.50s/it]\u001b[A\n",
            " 82%|████████▏ | 128/157 [03:11<00:43,  1.50s/it]\u001b[A\n",
            " 82%|████████▏ | 129/157 [03:12<00:42,  1.50s/it]\u001b[A\n",
            " 83%|████████▎ | 130/157 [03:14<00:40,  1.50s/it]\u001b[A\n",
            " 83%|████████▎ | 131/157 [03:15<00:38,  1.50s/it]\u001b[A\n",
            " 84%|████████▍ | 132/157 [03:17<00:37,  1.50s/it]\u001b[A\n",
            " 85%|████████▍ | 133/157 [03:18<00:36,  1.50s/it]\u001b[A\n",
            " 85%|████████▌ | 134/157 [03:20<00:34,  1.50s/it]\u001b[A\n",
            " 86%|████████▌ | 135/157 [03:21<00:32,  1.50s/it]\u001b[A\n",
            " 87%|████████▋ | 136/157 [03:23<00:31,  1.50s/it]\u001b[A\n",
            " 87%|████████▋ | 137/157 [03:24<00:29,  1.50s/it]\u001b[A\n",
            " 88%|████████▊ | 138/157 [03:26<00:28,  1.49s/it]\u001b[A\n",
            " 89%|████████▊ | 139/157 [03:27<00:26,  1.50s/it]\u001b[A\n",
            " 89%|████████▉ | 140/157 [03:29<00:25,  1.50s/it]\u001b[A\n",
            " 90%|████████▉ | 141/157 [03:30<00:23,  1.50s/it]\u001b[A\n",
            " 90%|█████████ | 142/157 [03:32<00:22,  1.50s/it]\u001b[A\n",
            " 91%|█████████ | 143/157 [03:33<00:21,  1.51s/it]\u001b[A\n",
            " 92%|█████████▏| 144/157 [03:35<00:19,  1.51s/it]\u001b[A\n",
            " 92%|█████████▏| 145/157 [03:36<00:18,  1.51s/it]\u001b[A\n",
            " 93%|█████████▎| 146/157 [03:38<00:16,  1.50s/it]\u001b[A\n",
            " 94%|█████████▎| 147/157 [03:39<00:14,  1.50s/it]\u001b[A\n",
            " 94%|█████████▍| 148/157 [03:41<00:13,  1.50s/it]\u001b[A\n",
            " 95%|█████████▍| 149/157 [03:42<00:11,  1.50s/it]\u001b[A\n",
            " 96%|█████████▌| 150/157 [03:44<00:10,  1.50s/it]\u001b[A\n",
            " 96%|█████████▌| 151/157 [03:45<00:08,  1.50s/it]\u001b[A\n",
            " 97%|█████████▋| 152/157 [03:47<00:07,  1.50s/it]\u001b[A\n",
            " 97%|█████████▋| 153/157 [03:48<00:06,  1.50s/it]\u001b[A\n",
            " 98%|█████████▊| 154/157 [03:50<00:04,  1.50s/it]\u001b[A\n",
            " 99%|█████████▊| 155/157 [03:51<00:02,  1.50s/it]\u001b[A\n",
            " 99%|█████████▉| 156/157 [03:53<00:01,  1.49s/it]\u001b[A\n",
            "100%|██████████| 157/157 [03:53<00:00,  1.49s/it]"
          ]
        },
        {
          "output_type": "stream",
          "name": "stdout",
          "text": [
            "Оценка за это задание составит 10.00 баллов\n"
          ]
        },
        {
          "output_type": "stream",
          "name": "stderr",
          "text": [
            "\n"
          ]
        }
      ],
      "source": [
        "model = module\n",
        "\n",
        "accuracy = evaluate_task(model, val_dataloader)\n",
        "print(f\"Оценка за это задание составит {np.clip(10 * (accuracy - 0.5) / 0.34, 0, 10):.2f} баллов\")"
      ]
    },
    {
      "cell_type": "markdown",
      "metadata": {
        "cell_id": 15,
        "id": "pT8vfPSolRVb"
      },
      "source": [
        "# Отчёт об экспериментах"
      ]
    },
    {
      "cell_type": "markdown",
      "source": [
        "## Первое задание\n",
        "\n",
        "\n",
        "\n",
        "*   нулевой эксперимент\n",
        "\n",
        "начать хочется с кринжа - почитав чатик и послушав советы знакомых, которые уже начали делать дз, я решила начать с базы - резнет18 с адамом, лернинг рейт = 0.001. проверила, что все функции для обучения и валидации работают, решила обучить такую модельку и посмотреть, какое качество получится. словами не описать, когда максимум на валидации, которого удалось добиться - это аккураси 0.005. оказывается, я не зашафлила тренировочный даталоадер 🤡\n",
        "\n",
        "*   первый эксперимент\n",
        "\n",
        "шафл=тру чудотворящий 🙏 валидационная аккураси на 6 эпохах 0,349, а это почти 8 за первое задание.\n",
        "\n",
        "\n",
        "*   второй эксперимент\n",
        "\n",
        "я решила поэксперементировать с аугментацией. сначала просто трансформировала исходные тестовые данные - попробовала сначала просто нормализацию, потом поворот на угол + нормализацию, рандомное отображение + поворот на угол + нормализацию, но ничего из этого не давало аккураси > 0,37. потом я решила обучать не просто на трансформированных данных, а на комбинации обычного теста + трансформированного. благодаря этому, удалось достигнуть аккураси = 0,4\n",
        "\n",
        "*   третий эксперимент\n",
        "\n",
        "после экспериментов с аугментацией я решила увеличить количество эпох - если раньше модель обучалась на 7-10 эпохах, то теперь я увеличила число эпох до 15. однако, это не сильно помогло - после 10 эпохи точность модели \"скакала\", поэтому я решила попробовать прикрутить шедулер. попробовала разные варианты MultiStepLR - уменьшение в gamma = 0.5 раз с 10 по 15 эпоху, уменьшение в 0.75 раз с 5 по 15 эпохи. по итогу оставила gamma = 0.8 и milestones = с 10 по 20 эпоху - на самом деле, все испробованные мной варианты были очень близки к 0,44, но не достигали ее. итоговый эксперимент стал конечным только потому что у меня не хватило сил попробовать что-то еще.\n",
        "\n"
      ],
      "metadata": {
        "id": "TCwBG0FSrOcE"
      }
    },
    {
      "cell_type": "markdown",
      "source": [
        "## Второе задание\n",
        "\n",
        "* подготовка:\n",
        "\n",
        "Выполнение второго задания я решила начать с чистого листа, в том числе изменив способ предобработки данных - так как я планирую использовать модель, которая предобучена на ImageNet'e, я добавила ресайт изображений к формату 224х224, поменяла параметры нормализации на те, которые стоят у выбранной архитектуры в документации(я так понимаю, это просто среднее и отклонение у ImageNet'a), оставила RandomHorizontalFlip(это вышло случайно, я думала, что убрала все аугментации, заметила только после успешного запуска кода). Так же я решила не расширять размер датасета, как делала это в первом задании, хотя бы на первом этапе, чтобы посмотреть, насколько хорошо будет работать предобученная модель и уже потом решать, что с ней делать.\n",
        "\n",
        "При выборе модели я просто смотрела на то, какую аккураси она дает на ImageNet'e. Одной из первых моделей с результатом, который был близок к требуемой точности, была ConvNeXt, решила начать с нее.\n",
        "\n",
        "После предобработки данных и необходимых преобразований внутри модели(поменяла последний слой классификации, заморозила верхние слои), я начала обучать модель с помощью функций из первого задания и... ничего не сработало. Выходила какая-то странная ошибка с размерностями, починить ее(и вообще понять откуда она) у меня не получилось, поэтому я сдалась и решила писать тренировочный класс через lightning\n",
        "\n",
        "* первый эксперимент:\n",
        "\n",
        "Модель - ConvNeXt, оптимизатор - Adam с lr = 0.001, ошибка - кросс-энтропия. Изначально обучение предполагалось хотя бы на 2-х эпохах, но после первого запуска я увидела accuracy 0,865 после первой эпохи и прервала обучение. Звучит как чудо, но получилось выбить нужную точность с первого раза!"
      ],
      "metadata": {
        "id": "4BRVOy_QgRRx"
      }
    },
    {
      "cell_type": "markdown",
      "source": [
        "##Ссылки:\n",
        "\n",
        "Не хотелось засорять код, поэтому все ресурсы, которые мне помогли в выполнении дз, представлены в этом разделе\n",
        "\n",
        "\n",
        "\n",
        "*   https://debuggercafe.com/dataset-expansion-using-image-augmentation-for-deep-learning/\n",
        "*   https://www.programmersought.com/article/614511303511/\n",
        "* https://pytorch.org/docs/stable/notes/randomness.html\n",
        "* https://www.pluralsight.com/guides/image-classification-with-pytorch\n",
        "* https://medium.com/@meda.abdullah/transfer-learning-for-computer-vision-a-pytorch-tutorial-c5c4e022bcdf\n",
        "* https://pytorch.org/tutorials/beginner/transfer_learning_tutorial.html\n",
        "\n"
      ],
      "metadata": {
        "id": "hAU6w_kHopvm"
      }
    }
  ],
  "metadata": {
    "colab": {
      "provenance": [],
      "gpuType": "T4"
    },
    "kernelspec": {
      "display_name": "Python 3",
      "name": "python3"
    },
    "language_info": {
      "codemirror_mode": {
        "name": "ipython",
        "version": 3
      },
      "file_extension": ".py",
      "mimetype": "text/x-python",
      "name": "python",
      "nbconvert_exporter": "python",
      "pygments_lexer": "ipython3",
      "version": "3.8.5"
    },
    "max_cell_id": 35,
    "accelerator": "GPU",
    "widgets": {
      "application/vnd.jupyter.widget-state+json": {
        "1775cb3cc3d44ce4a988522eae683308": {
          "model_module": "@jupyter-widgets/controls",
          "model_name": "HBoxModel",
          "model_module_version": "1.5.0",
          "state": {
            "_dom_classes": [],
            "_model_module": "@jupyter-widgets/controls",
            "_model_module_version": "1.5.0",
            "_model_name": "HBoxModel",
            "_view_count": null,
            "_view_module": "@jupyter-widgets/controls",
            "_view_module_version": "1.5.0",
            "_view_name": "HBoxView",
            "box_style": "",
            "children": [
              "IPY_MODEL_45a4718a934f4ee89125a60a4d89b605",
              "IPY_MODEL_21f039ff157a4d2d9c60796add54b746",
              "IPY_MODEL_5042ca812a8f4a2ab73fff28852c917e"
            ],
            "layout": "IPY_MODEL_e48501b9ab634a44af1617804c0ce2c4"
          }
        },
        "45a4718a934f4ee89125a60a4d89b605": {
          "model_module": "@jupyter-widgets/controls",
          "model_name": "HTMLModel",
          "model_module_version": "1.5.0",
          "state": {
            "_dom_classes": [],
            "_model_module": "@jupyter-widgets/controls",
            "_model_module_version": "1.5.0",
            "_model_name": "HTMLModel",
            "_view_count": null,
            "_view_module": "@jupyter-widgets/controls",
            "_view_module_version": "1.5.0",
            "_view_name": "HTMLView",
            "description": "",
            "description_tooltip": null,
            "layout": "IPY_MODEL_f86461cd97be48438951c672c0937316",
            "placeholder": "​",
            "style": "IPY_MODEL_79148f804bab418894c9246b7e8816b8",
            "value": "Sanity Checking DataLoader 0: 100%"
          }
        },
        "21f039ff157a4d2d9c60796add54b746": {
          "model_module": "@jupyter-widgets/controls",
          "model_name": "FloatProgressModel",
          "model_module_version": "1.5.0",
          "state": {
            "_dom_classes": [],
            "_model_module": "@jupyter-widgets/controls",
            "_model_module_version": "1.5.0",
            "_model_name": "FloatProgressModel",
            "_view_count": null,
            "_view_module": "@jupyter-widgets/controls",
            "_view_module_version": "1.5.0",
            "_view_name": "ProgressView",
            "bar_style": "",
            "description": "",
            "description_tooltip": null,
            "layout": "IPY_MODEL_6ea455bc150f4faf9bdd80a2fd5240e9",
            "max": 2,
            "min": 0,
            "orientation": "horizontal",
            "style": "IPY_MODEL_88250ddc168342719dcf2e39b80f18ff",
            "value": 2
          }
        },
        "5042ca812a8f4a2ab73fff28852c917e": {
          "model_module": "@jupyter-widgets/controls",
          "model_name": "HTMLModel",
          "model_module_version": "1.5.0",
          "state": {
            "_dom_classes": [],
            "_model_module": "@jupyter-widgets/controls",
            "_model_module_version": "1.5.0",
            "_model_name": "HTMLModel",
            "_view_count": null,
            "_view_module": "@jupyter-widgets/controls",
            "_view_module_version": "1.5.0",
            "_view_name": "HTMLView",
            "description": "",
            "description_tooltip": null,
            "layout": "IPY_MODEL_fbfa084730a94dcca0484e72c7302de9",
            "placeholder": "​",
            "style": "IPY_MODEL_f178b8e6e07b4425ab56655ac7677fea",
            "value": " 2/2 [00:02&lt;00:00,  0.70it/s]"
          }
        },
        "e48501b9ab634a44af1617804c0ce2c4": {
          "model_module": "@jupyter-widgets/base",
          "model_name": "LayoutModel",
          "model_module_version": "1.2.0",
          "state": {
            "_model_module": "@jupyter-widgets/base",
            "_model_module_version": "1.2.0",
            "_model_name": "LayoutModel",
            "_view_count": null,
            "_view_module": "@jupyter-widgets/base",
            "_view_module_version": "1.2.0",
            "_view_name": "LayoutView",
            "align_content": null,
            "align_items": null,
            "align_self": null,
            "border": null,
            "bottom": null,
            "display": "inline-flex",
            "flex": null,
            "flex_flow": "row wrap",
            "grid_area": null,
            "grid_auto_columns": null,
            "grid_auto_flow": null,
            "grid_auto_rows": null,
            "grid_column": null,
            "grid_gap": null,
            "grid_row": null,
            "grid_template_areas": null,
            "grid_template_columns": null,
            "grid_template_rows": null,
            "height": null,
            "justify_content": null,
            "justify_items": null,
            "left": null,
            "margin": null,
            "max_height": null,
            "max_width": null,
            "min_height": null,
            "min_width": null,
            "object_fit": null,
            "object_position": null,
            "order": null,
            "overflow": null,
            "overflow_x": null,
            "overflow_y": null,
            "padding": null,
            "right": null,
            "top": null,
            "visibility": "hidden",
            "width": "100%"
          }
        },
        "f86461cd97be48438951c672c0937316": {
          "model_module": "@jupyter-widgets/base",
          "model_name": "LayoutModel",
          "model_module_version": "1.2.0",
          "state": {
            "_model_module": "@jupyter-widgets/base",
            "_model_module_version": "1.2.0",
            "_model_name": "LayoutModel",
            "_view_count": null,
            "_view_module": "@jupyter-widgets/base",
            "_view_module_version": "1.2.0",
            "_view_name": "LayoutView",
            "align_content": null,
            "align_items": null,
            "align_self": null,
            "border": null,
            "bottom": null,
            "display": null,
            "flex": null,
            "flex_flow": null,
            "grid_area": null,
            "grid_auto_columns": null,
            "grid_auto_flow": null,
            "grid_auto_rows": null,
            "grid_column": null,
            "grid_gap": null,
            "grid_row": null,
            "grid_template_areas": null,
            "grid_template_columns": null,
            "grid_template_rows": null,
            "height": null,
            "justify_content": null,
            "justify_items": null,
            "left": null,
            "margin": null,
            "max_height": null,
            "max_width": null,
            "min_height": null,
            "min_width": null,
            "object_fit": null,
            "object_position": null,
            "order": null,
            "overflow": null,
            "overflow_x": null,
            "overflow_y": null,
            "padding": null,
            "right": null,
            "top": null,
            "visibility": null,
            "width": null
          }
        },
        "79148f804bab418894c9246b7e8816b8": {
          "model_module": "@jupyter-widgets/controls",
          "model_name": "DescriptionStyleModel",
          "model_module_version": "1.5.0",
          "state": {
            "_model_module": "@jupyter-widgets/controls",
            "_model_module_version": "1.5.0",
            "_model_name": "DescriptionStyleModel",
            "_view_count": null,
            "_view_module": "@jupyter-widgets/base",
            "_view_module_version": "1.2.0",
            "_view_name": "StyleView",
            "description_width": ""
          }
        },
        "6ea455bc150f4faf9bdd80a2fd5240e9": {
          "model_module": "@jupyter-widgets/base",
          "model_name": "LayoutModel",
          "model_module_version": "1.2.0",
          "state": {
            "_model_module": "@jupyter-widgets/base",
            "_model_module_version": "1.2.0",
            "_model_name": "LayoutModel",
            "_view_count": null,
            "_view_module": "@jupyter-widgets/base",
            "_view_module_version": "1.2.0",
            "_view_name": "LayoutView",
            "align_content": null,
            "align_items": null,
            "align_self": null,
            "border": null,
            "bottom": null,
            "display": null,
            "flex": "2",
            "flex_flow": null,
            "grid_area": null,
            "grid_auto_columns": null,
            "grid_auto_flow": null,
            "grid_auto_rows": null,
            "grid_column": null,
            "grid_gap": null,
            "grid_row": null,
            "grid_template_areas": null,
            "grid_template_columns": null,
            "grid_template_rows": null,
            "height": null,
            "justify_content": null,
            "justify_items": null,
            "left": null,
            "margin": null,
            "max_height": null,
            "max_width": null,
            "min_height": null,
            "min_width": null,
            "object_fit": null,
            "object_position": null,
            "order": null,
            "overflow": null,
            "overflow_x": null,
            "overflow_y": null,
            "padding": null,
            "right": null,
            "top": null,
            "visibility": null,
            "width": null
          }
        },
        "88250ddc168342719dcf2e39b80f18ff": {
          "model_module": "@jupyter-widgets/controls",
          "model_name": "ProgressStyleModel",
          "model_module_version": "1.5.0",
          "state": {
            "_model_module": "@jupyter-widgets/controls",
            "_model_module_version": "1.5.0",
            "_model_name": "ProgressStyleModel",
            "_view_count": null,
            "_view_module": "@jupyter-widgets/base",
            "_view_module_version": "1.2.0",
            "_view_name": "StyleView",
            "bar_color": null,
            "description_width": ""
          }
        },
        "fbfa084730a94dcca0484e72c7302de9": {
          "model_module": "@jupyter-widgets/base",
          "model_name": "LayoutModel",
          "model_module_version": "1.2.0",
          "state": {
            "_model_module": "@jupyter-widgets/base",
            "_model_module_version": "1.2.0",
            "_model_name": "LayoutModel",
            "_view_count": null,
            "_view_module": "@jupyter-widgets/base",
            "_view_module_version": "1.2.0",
            "_view_name": "LayoutView",
            "align_content": null,
            "align_items": null,
            "align_self": null,
            "border": null,
            "bottom": null,
            "display": null,
            "flex": null,
            "flex_flow": null,
            "grid_area": null,
            "grid_auto_columns": null,
            "grid_auto_flow": null,
            "grid_auto_rows": null,
            "grid_column": null,
            "grid_gap": null,
            "grid_row": null,
            "grid_template_areas": null,
            "grid_template_columns": null,
            "grid_template_rows": null,
            "height": null,
            "justify_content": null,
            "justify_items": null,
            "left": null,
            "margin": null,
            "max_height": null,
            "max_width": null,
            "min_height": null,
            "min_width": null,
            "object_fit": null,
            "object_position": null,
            "order": null,
            "overflow": null,
            "overflow_x": null,
            "overflow_y": null,
            "padding": null,
            "right": null,
            "top": null,
            "visibility": null,
            "width": null
          }
        },
        "f178b8e6e07b4425ab56655ac7677fea": {
          "model_module": "@jupyter-widgets/controls",
          "model_name": "DescriptionStyleModel",
          "model_module_version": "1.5.0",
          "state": {
            "_model_module": "@jupyter-widgets/controls",
            "_model_module_version": "1.5.0",
            "_model_name": "DescriptionStyleModel",
            "_view_count": null,
            "_view_module": "@jupyter-widgets/base",
            "_view_module_version": "1.2.0",
            "_view_name": "StyleView",
            "description_width": ""
          }
        },
        "c3ffdaa1762c4f46a9059ae2ecff9058": {
          "model_module": "@jupyter-widgets/controls",
          "model_name": "HBoxModel",
          "model_module_version": "1.5.0",
          "state": {
            "_dom_classes": [],
            "_model_module": "@jupyter-widgets/controls",
            "_model_module_version": "1.5.0",
            "_model_name": "HBoxModel",
            "_view_count": null,
            "_view_module": "@jupyter-widgets/controls",
            "_view_module_version": "1.5.0",
            "_view_name": "HBoxView",
            "box_style": "",
            "children": [
              "IPY_MODEL_4be97a7b2d994811b3ff83dc0821b37d",
              "IPY_MODEL_26093667e63b4e03b74a661aa96f63f8",
              "IPY_MODEL_11aef60193ae4c23a533bf5ca27c0591"
            ],
            "layout": "IPY_MODEL_c70879f5316841be90dd4fb2a54c1f57"
          }
        },
        "4be97a7b2d994811b3ff83dc0821b37d": {
          "model_module": "@jupyter-widgets/controls",
          "model_name": "HTMLModel",
          "model_module_version": "1.5.0",
          "state": {
            "_dom_classes": [],
            "_model_module": "@jupyter-widgets/controls",
            "_model_module_version": "1.5.0",
            "_model_name": "HTMLModel",
            "_view_count": null,
            "_view_module": "@jupyter-widgets/controls",
            "_view_module_version": "1.5.0",
            "_view_name": "HTMLView",
            "description": "",
            "description_tooltip": null,
            "layout": "IPY_MODEL_6a1af7723ac7453895fe272ed447d250",
            "placeholder": "​",
            "style": "IPY_MODEL_9b348529b80a4ef49b0cf39db300b430",
            "value": "Epoch 1:   0%"
          }
        },
        "26093667e63b4e03b74a661aa96f63f8": {
          "model_module": "@jupyter-widgets/controls",
          "model_name": "FloatProgressModel",
          "model_module_version": "1.5.0",
          "state": {
            "_dom_classes": [],
            "_model_module": "@jupyter-widgets/controls",
            "_model_module_version": "1.5.0",
            "_model_name": "FloatProgressModel",
            "_view_count": null,
            "_view_module": "@jupyter-widgets/controls",
            "_view_module_version": "1.5.0",
            "_view_name": "ProgressView",
            "bar_style": "",
            "description": "",
            "description_tooltip": null,
            "layout": "IPY_MODEL_f60d9fd0b9b149ab84024482f52a420e",
            "max": 1563,
            "min": 0,
            "orientation": "horizontal",
            "style": "IPY_MODEL_83b8679d0c014ccbac5623100e2704a9",
            "value": 0
          }
        },
        "11aef60193ae4c23a533bf5ca27c0591": {
          "model_module": "@jupyter-widgets/controls",
          "model_name": "HTMLModel",
          "model_module_version": "1.5.0",
          "state": {
            "_dom_classes": [],
            "_model_module": "@jupyter-widgets/controls",
            "_model_module_version": "1.5.0",
            "_model_name": "HTMLModel",
            "_view_count": null,
            "_view_module": "@jupyter-widgets/controls",
            "_view_module_version": "1.5.0",
            "_view_name": "HTMLView",
            "description": "",
            "description_tooltip": null,
            "layout": "IPY_MODEL_80b7d114883d477eac0f0bb1bc09b171",
            "placeholder": "​",
            "style": "IPY_MODEL_853ce1618a934e9b9d7c75d7a53c28a1",
            "value": " 0/1563 [00:00&lt;?, ?it/s, v_num=3, train_loss=0.791, val_loss=0.516, accuracy=0.865]"
          }
        },
        "c70879f5316841be90dd4fb2a54c1f57": {
          "model_module": "@jupyter-widgets/base",
          "model_name": "LayoutModel",
          "model_module_version": "1.2.0",
          "state": {
            "_model_module": "@jupyter-widgets/base",
            "_model_module_version": "1.2.0",
            "_model_name": "LayoutModel",
            "_view_count": null,
            "_view_module": "@jupyter-widgets/base",
            "_view_module_version": "1.2.0",
            "_view_name": "LayoutView",
            "align_content": null,
            "align_items": null,
            "align_self": null,
            "border": null,
            "bottom": null,
            "display": "inline-flex",
            "flex": null,
            "flex_flow": "row wrap",
            "grid_area": null,
            "grid_auto_columns": null,
            "grid_auto_flow": null,
            "grid_auto_rows": null,
            "grid_column": null,
            "grid_gap": null,
            "grid_row": null,
            "grid_template_areas": null,
            "grid_template_columns": null,
            "grid_template_rows": null,
            "height": null,
            "justify_content": null,
            "justify_items": null,
            "left": null,
            "margin": null,
            "max_height": null,
            "max_width": null,
            "min_height": null,
            "min_width": null,
            "object_fit": null,
            "object_position": null,
            "order": null,
            "overflow": null,
            "overflow_x": null,
            "overflow_y": null,
            "padding": null,
            "right": null,
            "top": null,
            "visibility": null,
            "width": "100%"
          }
        },
        "6a1af7723ac7453895fe272ed447d250": {
          "model_module": "@jupyter-widgets/base",
          "model_name": "LayoutModel",
          "model_module_version": "1.2.0",
          "state": {
            "_model_module": "@jupyter-widgets/base",
            "_model_module_version": "1.2.0",
            "_model_name": "LayoutModel",
            "_view_count": null,
            "_view_module": "@jupyter-widgets/base",
            "_view_module_version": "1.2.0",
            "_view_name": "LayoutView",
            "align_content": null,
            "align_items": null,
            "align_self": null,
            "border": null,
            "bottom": null,
            "display": null,
            "flex": null,
            "flex_flow": null,
            "grid_area": null,
            "grid_auto_columns": null,
            "grid_auto_flow": null,
            "grid_auto_rows": null,
            "grid_column": null,
            "grid_gap": null,
            "grid_row": null,
            "grid_template_areas": null,
            "grid_template_columns": null,
            "grid_template_rows": null,
            "height": null,
            "justify_content": null,
            "justify_items": null,
            "left": null,
            "margin": null,
            "max_height": null,
            "max_width": null,
            "min_height": null,
            "min_width": null,
            "object_fit": null,
            "object_position": null,
            "order": null,
            "overflow": null,
            "overflow_x": null,
            "overflow_y": null,
            "padding": null,
            "right": null,
            "top": null,
            "visibility": null,
            "width": null
          }
        },
        "9b348529b80a4ef49b0cf39db300b430": {
          "model_module": "@jupyter-widgets/controls",
          "model_name": "DescriptionStyleModel",
          "model_module_version": "1.5.0",
          "state": {
            "_model_module": "@jupyter-widgets/controls",
            "_model_module_version": "1.5.0",
            "_model_name": "DescriptionStyleModel",
            "_view_count": null,
            "_view_module": "@jupyter-widgets/base",
            "_view_module_version": "1.2.0",
            "_view_name": "StyleView",
            "description_width": ""
          }
        },
        "f60d9fd0b9b149ab84024482f52a420e": {
          "model_module": "@jupyter-widgets/base",
          "model_name": "LayoutModel",
          "model_module_version": "1.2.0",
          "state": {
            "_model_module": "@jupyter-widgets/base",
            "_model_module_version": "1.2.0",
            "_model_name": "LayoutModel",
            "_view_count": null,
            "_view_module": "@jupyter-widgets/base",
            "_view_module_version": "1.2.0",
            "_view_name": "LayoutView",
            "align_content": null,
            "align_items": null,
            "align_self": null,
            "border": null,
            "bottom": null,
            "display": null,
            "flex": "2",
            "flex_flow": null,
            "grid_area": null,
            "grid_auto_columns": null,
            "grid_auto_flow": null,
            "grid_auto_rows": null,
            "grid_column": null,
            "grid_gap": null,
            "grid_row": null,
            "grid_template_areas": null,
            "grid_template_columns": null,
            "grid_template_rows": null,
            "height": null,
            "justify_content": null,
            "justify_items": null,
            "left": null,
            "margin": null,
            "max_height": null,
            "max_width": null,
            "min_height": null,
            "min_width": null,
            "object_fit": null,
            "object_position": null,
            "order": null,
            "overflow": null,
            "overflow_x": null,
            "overflow_y": null,
            "padding": null,
            "right": null,
            "top": null,
            "visibility": null,
            "width": null
          }
        },
        "83b8679d0c014ccbac5623100e2704a9": {
          "model_module": "@jupyter-widgets/controls",
          "model_name": "ProgressStyleModel",
          "model_module_version": "1.5.0",
          "state": {
            "_model_module": "@jupyter-widgets/controls",
            "_model_module_version": "1.5.0",
            "_model_name": "ProgressStyleModel",
            "_view_count": null,
            "_view_module": "@jupyter-widgets/base",
            "_view_module_version": "1.2.0",
            "_view_name": "StyleView",
            "bar_color": null,
            "description_width": ""
          }
        },
        "80b7d114883d477eac0f0bb1bc09b171": {
          "model_module": "@jupyter-widgets/base",
          "model_name": "LayoutModel",
          "model_module_version": "1.2.0",
          "state": {
            "_model_module": "@jupyter-widgets/base",
            "_model_module_version": "1.2.0",
            "_model_name": "LayoutModel",
            "_view_count": null,
            "_view_module": "@jupyter-widgets/base",
            "_view_module_version": "1.2.0",
            "_view_name": "LayoutView",
            "align_content": null,
            "align_items": null,
            "align_self": null,
            "border": null,
            "bottom": null,
            "display": null,
            "flex": null,
            "flex_flow": null,
            "grid_area": null,
            "grid_auto_columns": null,
            "grid_auto_flow": null,
            "grid_auto_rows": null,
            "grid_column": null,
            "grid_gap": null,
            "grid_row": null,
            "grid_template_areas": null,
            "grid_template_columns": null,
            "grid_template_rows": null,
            "height": null,
            "justify_content": null,
            "justify_items": null,
            "left": null,
            "margin": null,
            "max_height": null,
            "max_width": null,
            "min_height": null,
            "min_width": null,
            "object_fit": null,
            "object_position": null,
            "order": null,
            "overflow": null,
            "overflow_x": null,
            "overflow_y": null,
            "padding": null,
            "right": null,
            "top": null,
            "visibility": null,
            "width": null
          }
        },
        "853ce1618a934e9b9d7c75d7a53c28a1": {
          "model_module": "@jupyter-widgets/controls",
          "model_name": "DescriptionStyleModel",
          "model_module_version": "1.5.0",
          "state": {
            "_model_module": "@jupyter-widgets/controls",
            "_model_module_version": "1.5.0",
            "_model_name": "DescriptionStyleModel",
            "_view_count": null,
            "_view_module": "@jupyter-widgets/base",
            "_view_module_version": "1.2.0",
            "_view_name": "StyleView",
            "description_width": ""
          }
        },
        "8a626e7b5f4a4537a972131ad739af62": {
          "model_module": "@jupyter-widgets/controls",
          "model_name": "HBoxModel",
          "model_module_version": "1.5.0",
          "state": {
            "_dom_classes": [],
            "_model_module": "@jupyter-widgets/controls",
            "_model_module_version": "1.5.0",
            "_model_name": "HBoxModel",
            "_view_count": null,
            "_view_module": "@jupyter-widgets/controls",
            "_view_module_version": "1.5.0",
            "_view_name": "HBoxView",
            "box_style": "",
            "children": [
              "IPY_MODEL_40b8a86c9674499283a1a0150aea4e53",
              "IPY_MODEL_ebc596eeba89447eaa4cf8eecd988a41",
              "IPY_MODEL_c7b16ebeb95d47ffb6513404794f5e86"
            ],
            "layout": "IPY_MODEL_795584ef388c4160b4d6e0876cf3ddbd"
          }
        },
        "40b8a86c9674499283a1a0150aea4e53": {
          "model_module": "@jupyter-widgets/controls",
          "model_name": "HTMLModel",
          "model_module_version": "1.5.0",
          "state": {
            "_dom_classes": [],
            "_model_module": "@jupyter-widgets/controls",
            "_model_module_version": "1.5.0",
            "_model_name": "HTMLModel",
            "_view_count": null,
            "_view_module": "@jupyter-widgets/controls",
            "_view_module_version": "1.5.0",
            "_view_name": "HTMLView",
            "description": "",
            "description_tooltip": null,
            "layout": "IPY_MODEL_d96967a3335d45788b77218656b1e169",
            "placeholder": "​",
            "style": "IPY_MODEL_31f9b667d5ed4f03b056a7a05d65a332",
            "value": "Validation DataLoader 0: 100%"
          }
        },
        "ebc596eeba89447eaa4cf8eecd988a41": {
          "model_module": "@jupyter-widgets/controls",
          "model_name": "FloatProgressModel",
          "model_module_version": "1.5.0",
          "state": {
            "_dom_classes": [],
            "_model_module": "@jupyter-widgets/controls",
            "_model_module_version": "1.5.0",
            "_model_name": "FloatProgressModel",
            "_view_count": null,
            "_view_module": "@jupyter-widgets/controls",
            "_view_module_version": "1.5.0",
            "_view_name": "ProgressView",
            "bar_style": "",
            "description": "",
            "description_tooltip": null,
            "layout": "IPY_MODEL_05eba1bef27c4e00abe9a2bcce1812f8",
            "max": 157,
            "min": 0,
            "orientation": "horizontal",
            "style": "IPY_MODEL_1354b7694ab340aa9db735cdc0daaa65",
            "value": 157
          }
        },
        "c7b16ebeb95d47ffb6513404794f5e86": {
          "model_module": "@jupyter-widgets/controls",
          "model_name": "HTMLModel",
          "model_module_version": "1.5.0",
          "state": {
            "_dom_classes": [],
            "_model_module": "@jupyter-widgets/controls",
            "_model_module_version": "1.5.0",
            "_model_name": "HTMLModel",
            "_view_count": null,
            "_view_module": "@jupyter-widgets/controls",
            "_view_module_version": "1.5.0",
            "_view_name": "HTMLView",
            "description": "",
            "description_tooltip": null,
            "layout": "IPY_MODEL_a1fda1c5bc3d4c89889ca7798f68dcc9",
            "placeholder": "​",
            "style": "IPY_MODEL_64e4b2302b704137bb75d7ea41242509",
            "value": " 157/157 [03:53&lt;00:00,  0.67it/s]"
          }
        },
        "795584ef388c4160b4d6e0876cf3ddbd": {
          "model_module": "@jupyter-widgets/base",
          "model_name": "LayoutModel",
          "model_module_version": "1.2.0",
          "state": {
            "_model_module": "@jupyter-widgets/base",
            "_model_module_version": "1.2.0",
            "_model_name": "LayoutModel",
            "_view_count": null,
            "_view_module": "@jupyter-widgets/base",
            "_view_module_version": "1.2.0",
            "_view_name": "LayoutView",
            "align_content": null,
            "align_items": null,
            "align_self": null,
            "border": null,
            "bottom": null,
            "display": "inline-flex",
            "flex": null,
            "flex_flow": "row wrap",
            "grid_area": null,
            "grid_auto_columns": null,
            "grid_auto_flow": null,
            "grid_auto_rows": null,
            "grid_column": null,
            "grid_gap": null,
            "grid_row": null,
            "grid_template_areas": null,
            "grid_template_columns": null,
            "grid_template_rows": null,
            "height": null,
            "justify_content": null,
            "justify_items": null,
            "left": null,
            "margin": null,
            "max_height": null,
            "max_width": null,
            "min_height": null,
            "min_width": null,
            "object_fit": null,
            "object_position": null,
            "order": null,
            "overflow": null,
            "overflow_x": null,
            "overflow_y": null,
            "padding": null,
            "right": null,
            "top": null,
            "visibility": "hidden",
            "width": "100%"
          }
        },
        "d96967a3335d45788b77218656b1e169": {
          "model_module": "@jupyter-widgets/base",
          "model_name": "LayoutModel",
          "model_module_version": "1.2.0",
          "state": {
            "_model_module": "@jupyter-widgets/base",
            "_model_module_version": "1.2.0",
            "_model_name": "LayoutModel",
            "_view_count": null,
            "_view_module": "@jupyter-widgets/base",
            "_view_module_version": "1.2.0",
            "_view_name": "LayoutView",
            "align_content": null,
            "align_items": null,
            "align_self": null,
            "border": null,
            "bottom": null,
            "display": null,
            "flex": null,
            "flex_flow": null,
            "grid_area": null,
            "grid_auto_columns": null,
            "grid_auto_flow": null,
            "grid_auto_rows": null,
            "grid_column": null,
            "grid_gap": null,
            "grid_row": null,
            "grid_template_areas": null,
            "grid_template_columns": null,
            "grid_template_rows": null,
            "height": null,
            "justify_content": null,
            "justify_items": null,
            "left": null,
            "margin": null,
            "max_height": null,
            "max_width": null,
            "min_height": null,
            "min_width": null,
            "object_fit": null,
            "object_position": null,
            "order": null,
            "overflow": null,
            "overflow_x": null,
            "overflow_y": null,
            "padding": null,
            "right": null,
            "top": null,
            "visibility": null,
            "width": null
          }
        },
        "31f9b667d5ed4f03b056a7a05d65a332": {
          "model_module": "@jupyter-widgets/controls",
          "model_name": "DescriptionStyleModel",
          "model_module_version": "1.5.0",
          "state": {
            "_model_module": "@jupyter-widgets/controls",
            "_model_module_version": "1.5.0",
            "_model_name": "DescriptionStyleModel",
            "_view_count": null,
            "_view_module": "@jupyter-widgets/base",
            "_view_module_version": "1.2.0",
            "_view_name": "StyleView",
            "description_width": ""
          }
        },
        "05eba1bef27c4e00abe9a2bcce1812f8": {
          "model_module": "@jupyter-widgets/base",
          "model_name": "LayoutModel",
          "model_module_version": "1.2.0",
          "state": {
            "_model_module": "@jupyter-widgets/base",
            "_model_module_version": "1.2.0",
            "_model_name": "LayoutModel",
            "_view_count": null,
            "_view_module": "@jupyter-widgets/base",
            "_view_module_version": "1.2.0",
            "_view_name": "LayoutView",
            "align_content": null,
            "align_items": null,
            "align_self": null,
            "border": null,
            "bottom": null,
            "display": null,
            "flex": "2",
            "flex_flow": null,
            "grid_area": null,
            "grid_auto_columns": null,
            "grid_auto_flow": null,
            "grid_auto_rows": null,
            "grid_column": null,
            "grid_gap": null,
            "grid_row": null,
            "grid_template_areas": null,
            "grid_template_columns": null,
            "grid_template_rows": null,
            "height": null,
            "justify_content": null,
            "justify_items": null,
            "left": null,
            "margin": null,
            "max_height": null,
            "max_width": null,
            "min_height": null,
            "min_width": null,
            "object_fit": null,
            "object_position": null,
            "order": null,
            "overflow": null,
            "overflow_x": null,
            "overflow_y": null,
            "padding": null,
            "right": null,
            "top": null,
            "visibility": null,
            "width": null
          }
        },
        "1354b7694ab340aa9db735cdc0daaa65": {
          "model_module": "@jupyter-widgets/controls",
          "model_name": "ProgressStyleModel",
          "model_module_version": "1.5.0",
          "state": {
            "_model_module": "@jupyter-widgets/controls",
            "_model_module_version": "1.5.0",
            "_model_name": "ProgressStyleModel",
            "_view_count": null,
            "_view_module": "@jupyter-widgets/base",
            "_view_module_version": "1.2.0",
            "_view_name": "StyleView",
            "bar_color": null,
            "description_width": ""
          }
        },
        "a1fda1c5bc3d4c89889ca7798f68dcc9": {
          "model_module": "@jupyter-widgets/base",
          "model_name": "LayoutModel",
          "model_module_version": "1.2.0",
          "state": {
            "_model_module": "@jupyter-widgets/base",
            "_model_module_version": "1.2.0",
            "_model_name": "LayoutModel",
            "_view_count": null,
            "_view_module": "@jupyter-widgets/base",
            "_view_module_version": "1.2.0",
            "_view_name": "LayoutView",
            "align_content": null,
            "align_items": null,
            "align_self": null,
            "border": null,
            "bottom": null,
            "display": null,
            "flex": null,
            "flex_flow": null,
            "grid_area": null,
            "grid_auto_columns": null,
            "grid_auto_flow": null,
            "grid_auto_rows": null,
            "grid_column": null,
            "grid_gap": null,
            "grid_row": null,
            "grid_template_areas": null,
            "grid_template_columns": null,
            "grid_template_rows": null,
            "height": null,
            "justify_content": null,
            "justify_items": null,
            "left": null,
            "margin": null,
            "max_height": null,
            "max_width": null,
            "min_height": null,
            "min_width": null,
            "object_fit": null,
            "object_position": null,
            "order": null,
            "overflow": null,
            "overflow_x": null,
            "overflow_y": null,
            "padding": null,
            "right": null,
            "top": null,
            "visibility": null,
            "width": null
          }
        },
        "64e4b2302b704137bb75d7ea41242509": {
          "model_module": "@jupyter-widgets/controls",
          "model_name": "DescriptionStyleModel",
          "model_module_version": "1.5.0",
          "state": {
            "_model_module": "@jupyter-widgets/controls",
            "_model_module_version": "1.5.0",
            "_model_name": "DescriptionStyleModel",
            "_view_count": null,
            "_view_module": "@jupyter-widgets/base",
            "_view_module_version": "1.2.0",
            "_view_name": "StyleView",
            "description_width": ""
          }
        }
      }
    }
  },
  "nbformat": 4,
  "nbformat_minor": 0
}